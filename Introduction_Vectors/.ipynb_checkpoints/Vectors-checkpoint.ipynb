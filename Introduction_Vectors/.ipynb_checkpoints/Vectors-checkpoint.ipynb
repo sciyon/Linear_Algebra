{
 "cells": [
  {
   "cell_type": "markdown",
   "id": "9aa470b9",
   "metadata": {},
   "source": [
    " # Introduction"
   ]
  },
  {
   "cell_type": "markdown",
   "id": "e65a5f99",
   "metadata": {},
   "source": [
    "- Let $\\mathbb{R}$ denote all numbers in the real number space.\n",
    "- Let $\\mathbb{C}$ denote all number in the complex number space\n",
    "- In this discussion we assume that the elements of our vectors comes from arbitrary field $\\textbf{K}$.\n",
    "- A linear array or a vector can be represented as a list of values, denoted as $w = (w_{1}, w_{2}, ...,w_{n})$.\n",
    "- In pythonic language, a vector is represented as $w = [w_{1}, w_{2}, ...,w{n}]$."
   ]
  },
  {
   "cell_type": "markdown",
   "id": "4864cee8",
   "metadata": {},
   "source": [
    "# Real World Application of Vectors"
   ]
  },
  {
   "cell_type": "markdown",
   "id": "e60a2fdc",
   "metadata": {},
   "source": [
    "- Many physical quantities, such as speed or tempersture, only posess a quantity called a \"magnitude\". These quantities can be represented by any real number which are called $\\textbf{scalars}$, denoted by a small $k$.\n",
    "<br>\n",
    "<br>\n",
    "- There are also physical quantities that posses both \"direction\" and \"magnitude\", these quantities can be represented as arrow in a Cartesian plane are called vectors.\n",
    "- The length of the arrow denotes the magnitude, while the orientation of the arrow denotes the direction.\n",
    "- The arrow has an orgin point, denoted as $\\textbf{O}$."
   ]
  },
  {
   "cell_type": "markdown",
   "id": "36f0743c",
   "metadata": {},
   "source": [
    "# Row Vectors and Column Vectors"
   ]
  },
  {
   "cell_type": "markdown",
   "id": "db57fd70",
   "metadata": {},
   "source": [
    "- A row vector is denoted as $\\textbf{u} = [1,2,3]$.\n",
    "- A column vector is denoted as:\n",
    "\\begin{align}\n",
    "    \\textbf{u} &= \\begin{bmatrix}\n",
    "           1 \\\\\n",
    "           2 \\\\\n",
    "           3\n",
    "         \\end{bmatrix}\n",
    "  \\end{align}\n",
    "- The transpose of a row vector,$\\textbf{u}^{T} = [1,2,3]^{T}$,  is a column vector."
   ]
  },
  {
   "cell_type": "markdown",
   "id": "0b6ca044",
   "metadata": {},
   "source": [
    "# Vector Operations\n",
    "---\n",
    "1. Vector Addition\n",
    "2. Scalar Multiplication"
   ]
  },
  {
   "cell_type": "markdown",
   "id": "d404660c",
   "metadata": {},
   "source": [
    "# Vector Addition"
   ]
  },
  {
   "cell_type": "markdown",
   "id": "9d330c1d",
   "metadata": {},
   "source": [
    "- Consider the two column vectors, $\\textbf{u} = [i_{1},i_{2},...,i_{n}]^{T}$ and $\\textbf{v} = [j_{1},j_{2},...,j_{n}]^{T}$. \n",
    "  \n",
    "\\begin{align}\n",
    "    \\textbf{u} &= \\begin{bmatrix}\n",
    "           i_{1} \\\\\n",
    "           i_{2} \\\\\n",
    "           \\vdots \\\\\n",
    "           i_{n}\n",
    "         \\end{bmatrix},\n",
    "         \\textbf{v} = \\begin{bmatrix}\n",
    "           j_{1} \\\\\n",
    "           j_{2} \\\\\n",
    "           \\vdots \\\\\n",
    "           j_{n}\n",
    "         \\end{bmatrix}\n",
    "  \\end{align}\n",
    "  \n",
    "\\begin{align}\n",
    "    \\textbf{u}+\\textbf{v} &= \\begin{bmatrix}\n",
    "           i_{1}+j_{1} \\\\\n",
    "           i_{2}+j_{n} \\\\\n",
    "           \\vdots \\\\\n",
    "           i_{n} + j_{n}\n",
    "         \\end{bmatrix}\n",
    "  \\end{align}\n",
    " - In Physics, this kinds of problem are solved using the parallelogram law."
   ]
  },
  {
   "cell_type": "markdown",
   "id": "7bda5f77",
   "metadata": {},
   "source": [
    "# Scalar Multiplication"
   ]
  },
  {
   "cell_type": "markdown",
   "id": "00b2f1de",
   "metadata": {},
   "source": [
    "- Let $k$ be any real number.\n",
    "- Let  $\\textbf{u} = [i_{1},i_{2},...,i_{n}]^{T}$\n",
    "- Then the scalar multiplication of a vector is $k\\textbf{u} = [k\\cdotp i_{1},k \\cdotp i_{2},..., k\\cdotp i_{n}]^{T}$.\n",
    "- The magnitude $i_{i}$ is multiplied by the scalar $k$.\n",
    "- The direction stays the same."
   ]
  },
  {
   "cell_type": "markdown",
   "id": "059f5ba0",
   "metadata": {},
   "source": [
    "# Example"
   ]
  },
  {
   "cell_type": "markdown",
   "id": "e2454d43",
   "metadata": {},
   "source": [
    "#### Vector Addition\n",
    "---\n",
    "- Let $\\textbf{u} = [1,2,3]^{T}$\n",
    "- Let $\\textbf{v} = [5,6,2]^{T}$\n",
    "- Then:\n",
    "\\begin{align}\n",
    "    \\textbf{u}+\\textbf{v} &= \\begin{bmatrix}\n",
    "           1+5 \\\\\n",
    "           2+6 \\\\\n",
    "           3+2\n",
    "         \\end{bmatrix}= \\begin{bmatrix}\n",
    "           6 \\\\\n",
    "           8 \\\\\n",
    "           5\n",
    "         \\end{bmatrix}\n",
    "  \\end{align}"
   ]
  },
  {
   "cell_type": "markdown",
   "id": "24701e78",
   "metadata": {},
   "source": [
    "### Scalar Multiplication\n",
    "---\n",
    "- Let $\\textbf{u} = [1,2,3]^{T}$\n",
    "- k = 3\n",
    "- Then:\n",
    "\\begin{align}\n",
    "    k \\cdotp \\textbf{u} = 3 \\cdotp \\textbf{u} &= \\begin{bmatrix}\n",
    "           3 \\cdotp5 \\\\\n",
    "           3 \\cdotp6 \\\\\n",
    "           3 \\cdotp2\n",
    "         \\end{bmatrix}= \\begin{bmatrix}\n",
    "           15 \\\\\n",
    "           18 \\\\\n",
    "           6\n",
    "         \\end{bmatrix}\n",
    "  \\end{align}"
   ]
  },
  {
   "cell_type": "markdown",
   "id": "65029eb2",
   "metadata": {},
   "source": [
    "# Pythonic Example"
   ]
  },
  {
   "cell_type": "code",
   "execution_count": 6,
   "id": "b2d95833",
   "metadata": {},
   "outputs": [
    {
     "name": "stdout",
     "output_type": "stream",
     "text": [
      "[1 2 3]\n",
      "[5 6 2]\n",
      "[6 8 5]\n"
     ]
    }
   ],
   "source": [
    "u = np.array([1, 2, 3])   # vector u\n",
    "v = np.array([5, 6, 2])   # vector v:\n",
    "print(u)\n",
    "print(v)\n",
    "print(u+v)"
   ]
  },
  {
   "cell_type": "markdown",
   "id": "56d8d484",
   "metadata": {},
   "source": [
    "# Python Visualization of the Vector Addition"
   ]
  },
  {
   "cell_type": "code",
   "execution_count": 8,
   "id": "e41d920d",
   "metadata": {},
   "outputs": [
    {
     "data": {
      "text/plain": [
       "(0.0, 10.0)"
      ]
     },
     "execution_count": 8,
     "metadata": {},
     "output_type": "execute_result"
    },
    {
     "data": {
      "image/png": "[encoded data removed]",
      "text/plain": [
       "<Figure size 640x480 with 1 Axes>"
      ]
     },
     "metadata": {},
     "output_type": "display_data"
    }
   ],
   "source": [
    "import numpy as np\n",
    "import matplotlib.pyplot as plt\n",
    "\n",
    "u = np.array([1, 2, 3])   # vector u\n",
    "v = np.array([5, 6, 2])   # vector v\n",
    "  \n",
    "fig = plt.figure()\n",
    "ax = plt.axes(projection = \"3d\")\n",
    "\n",
    "start = [0,0,0]\n",
    "ax.quiver(start[0],start[1],start[2],u[0],u[1],u[2],color='red')\n",
    "ax.quiver(start[0],start[1],start[2],v[0],v[1],v[2])\n",
    "#ax.quiver(v[0],v[1],v[2],u[0],u[1],u[2],color=\"green\")\n",
    "sum_vector = u+v\n",
    "ax.quiver(start[0], start[1], start[2], sum_vector[0], sum_vector[1], sum_vector[2],  color=\"green\")\n",
    "ax.set_xlim([-1,10])\n",
    "ax.set_ylim([-10,10])\n",
    "ax.set_zlim([0,10])"
   ]
  },
  {
   "cell_type": "markdown",
   "id": "36c4c5b7",
   "metadata": {},
   "source": [
    "# Vectors in $R^{n}$"
   ]
  },
  {
   "cell_type": "markdown",
   "id": "7276eff9",
   "metadata": {},
   "source": [
    "- Let an n-tuple be denoted as $(a_{1},...,a_{n})$.\n",
    "- The set of all n-tuple of real numbers is denoted by $R^{n}$, which is called the \"$\\textbf{n-space}$\".\n",
    "- $\\textbf{u} = (a_{1},...,a_{n})$ is considered as a point or a vector in space $R^{n}$.\n",
    "- The elements $a_{1}$, $a_{2}$, ...., $a_{n}$ are called coordinates, components, entries, or simply elements.\n",
    "- The \"$\\textbf{n}$\" in $R^{n}$ is the dimension of $\\textbf{R}$.\n",
    "\n"
   ]
  },
  {
   "cell_type": "markdown",
   "id": "54b0b843",
   "metadata": {},
   "source": [
    "# Theorems\n",
    "---\n",
    "- for any vectors $\\textbf{u},\\textbf{v},\\textbf{w} \\in R^{n}$, and any scalars $k, k' \\in \\textbf{R}$:\n",
    "1. $(\\textbf{u} + \\textbf{v}) + \\textbf{w} = \\textbf{u} + (\\textbf{v} + \\textbf{w})$ \n",
    "2. $\\textbf{u} + 0 = \\textbf{u}$\n",
    "3. $\\textbf{u} - \\textbf{u} = 0 $\n",
    "4. $\\textbf{u} + \\textbf{v} = \\textbf{v} + \\textbf{u}$\n",
    "5. $k(\\textbf{u} + \\textbf{v}) = k\\textbf{u} + k\\textbf{v}$\n",
    "6. $(k+k')\\textbf{u} = k\\textbf{u} + k'\\textbf{u}$\n",
    "7. $(kk')\\textbf{u} = k(k'\\textbf{u})$\n",
    "8. $\\mathbb{1}\\textbf{u} = \\textbf{u}$"
   ]
  },
  {
   "cell_type": "markdown",
   "id": "19e2dea7",
   "metadata": {},
   "source": [
    "# Dot (Inner) Products of Vectors"
   ]
  },
  {
   "cell_type": "markdown",
   "id": "a1670f7a",
   "metadata": {},
   "source": [
    "- Consider an arbitrary vector $\\textbf{u}$ and $\\textbf{v}$ $\\in$ $R^{n}$.\n",
    "- Let $\\textbf{u} = (a_{1}, a_{2}, ..., a_{n})$.\n",
    "- Let $\\textbf{v} = (b_{1}, b_{2}, ..., b_{n})$.\n",
    "- The dot, also called inner product, of $\\textbf{u}$ and $\\textbf{v}$ is: $\\textbf{u} \\cdotp \\textbf{v} = a_{1} \\cdotp b_{1} + ... +  a_{n} \\cdotp b_{n} $\n",
    "- If $\\textbf{u} \\cdotp \\textbf{v} = a_{1} \\cdotp b_{1} + ... +  a_{n} \\cdotp b_{n} = 0$, then $\\textbf{u}$ and $\\textbf{v}$ are orthogonal, or perpendicular to each other.\n",
    "- In python dot products are written as $\\textbf{u}.dot(\\textbf{v})$"
   ]
  },
  {
   "cell_type": "markdown",
   "id": "ff81f0b8",
   "metadata": {},
   "source": [
    "# Theorems on Dot Products\n",
    "---\n",
    "- for any vectors $\\textbf{u},\\textbf{v},\\textbf{w} \\in R^{n}$, and any scalars $k, k' \\in \\textbf{R}$:\n",
    "1. $(\\textbf{u} + \\textbf{v}) \\cdotp \\textbf{w} = \\textbf{u}\\cdotp \\textbf{w} + \\textbf{v}\\cdotp \\textbf{w}$ \n",
    "2. $\\textbf{u} \\cdotp \\textbf{v} = \\textbf{v} \\cdotp\\textbf{u}$\n",
    "3. $(k\\cdotp\\textbf{u})\\textbf{v} = k(\\textbf{u} \\cdotp\\textbf{v})$\n",
    "4. $\\textbf{u} \\cdotp \\textbf{u} \\geq 0$\n",
    "5. $\\textbf{u} \\cdotp \\textbf{u} = 0 \\iff \\textbf{u}=0$"
   ]
  },
  {
   "cell_type": "markdown",
   "id": "e9d93736",
   "metadata": {},
   "source": [
    "### Examples"
   ]
  },
  {
   "cell_type": "markdown",
   "id": "1cb02457",
   "metadata": {},
   "source": [
    "- Let $\\textbf{u} = (1,-2,3)$\n",
    "- Let $\\textbf{v} = (4,5,-1)$\n",
    "- Let $\\textbf{w} = (2,7,4)$\n",
    "Then:\n",
    "1. $\\textbf{u} \\cdotp \\textbf{v} = 1(4)-2(5)+3(-1)=-9$\n",
    "2. $\\textbf{u} \\cdotp \\textbf{w} = 1(2)-2(7)+3(4)=0$\n",
    "3. $\\textbf{v} \\cdotp \\textbf{w} = 4(2)+5(7)-1(4)=39$"
   ]
  },
  {
   "cell_type": "code",
   "execution_count": 15,
   "id": "2efdf675",
   "metadata": {},
   "outputs": [
    {
     "name": "stdout",
     "output_type": "stream",
     "text": [
      "u.v =  -9\n",
      "u.w =  0\n",
      "v.w =  39\n"
     ]
    }
   ],
   "source": [
    "### Pythonic Examples\n",
    "u = np.array([1, -2, 3])   # vector u\n",
    "v = np.array([4,5,-1])   # vector v\n",
    "w = np.array([2,7,4])   # vector w\n",
    "\n",
    "print(\"u.v = \", u.dot(v))\n",
    "print(\"u.w = \", u.dot(w))\n",
    "print(\"v.w = \", v.dot(w))"
   ]
  },
  {
   "cell_type": "markdown",
   "id": "06368bc3",
   "metadata": {},
   "source": [
    "# Norm of a Vector"
   ]
  },
  {
   "cell_type": "markdown",
   "id": "f0bca427",
   "metadata": {},
   "source": [
    "- the norm, or length, of a vector $\\textbf{u} \\in R^{n}$ is denoted by ||$\\textbf{u}$||.\n",
    "- It is defined as the nonnegative square root of $\\textbf{u} \\cdotp \\textbf{u}$.\n",
    "- Consider $\\textbf{u} = (a_{1},...,a_{n})$, then:\n",
    "||$\\textbf{u}$|| = $\\sqrt{\\textbf{u}.\\textbf{u}} = \\sqrt{a_{1}^{2}+...+a_{n}^{2}}$\n",
    "- ||$\\textbf{u}$||$\\geq 0$\n",
    "- ||$\\textbf{u}$|| =$0 \\iff \\textbf{u}=0 $\n",
    "- A vector, $\\textbf{u}$, is called a unit vector $\\iff$ ||$\\textbf{u}$||=1 or $\\textbf{u} \\cdotp \\textbf{u} = 1, \\forall \\ nonzero \\ \\textbf{u} \\in R^{n}$."
   ]
  },
  {
   "cell_type": "markdown",
   "id": "2f011940",
   "metadata": {},
   "source": [
    "## The Schwarz's Inequality\n",
    "---\n",
    "- For any vectors $\\textbf{u}, \\textbf{v} \\in R^{n}, |\\textbf{u}\\cdotp\\textbf{v}| \\leq ||\\textbf{u}|| \\ ||\\textbf{v}||$.\n",
    "- That is the absolute value of the inner product of $\\textbf{u}$ and$\\textbf{v}$ is $\\leq$ to the product of their norms."
   ]
  },
  {
   "cell_type": "markdown",
   "id": "0c1fe578",
   "metadata": {},
   "source": [
    "## The Minkowski's Inequality\n",
    "---\n",
    "- For any vectors $\\textbf{u}, \\textbf{v} \\in R^{n}, ||\\textbf{u}+\\textbf{v}|| \\leq ||\\textbf{u}|| \\ ||\\textbf{v}||$."
   ]
  },
  {
   "cell_type": "markdown",
   "id": "b2f54ad9",
   "metadata": {},
   "source": [
    "## Normalizing a Vector\n",
    "---\n",
    "- The unique unit vector, $\\textbf{u'}$, that has the same direction as $\\textbf{u}$ can be determined by:\n",
    "$\\textbf{u'} = \\frac{1}{||\\textbf{u}||} \\textbf{u} = \\frac{\\textbf{u}}{|| \\textbf{u} ||}$"
   ]
  },
  {
   "cell_type": "markdown",
   "id": "c3b76da4",
   "metadata": {},
   "source": [
    "### Examples"
   ]
  },
  {
   "cell_type": "markdown",
   "id": "b95cf85b",
   "metadata": {},
   "source": [
    "1. Suppose $\\textbf{u} = (1,-2,-4,5,3)$ then ||$\\textbf{u}$||:<br>\n",
    "||$\\textbf{u}$|| = $\\sqrt{\\textbf{u} \\cdotp \\textbf{u}} = \\sqrt{1^{2} + (-2)^2 + (-4)^2 + 5^{2} + 3^{2}} = \\sqrt{55}$\n",
    "<br>\n",
    "<br>\n",
    "Normalizing $\\textbf{u}$ to find $\\textbf{u'}$:<br>\n",
    "$\\textbf{u'} = \\frac{\\textbf{u}}{||\\textbf{u}||} = (\\frac{1}{\\sqrt{55}},\\frac{-2}{\\sqrt{55}},\\frac{-4}{\\sqrt{55}},\\frac{5}{\\sqrt{55}},\\frac{3}{\\sqrt{55}})$\n",
    "<br>\n",
    "<br>\n",
    "2. Suppose $\\textbf{w} = (\\frac{1}{2},\\frac{-1}{6},\\frac{5}{6},\\frac{1}{6})$ then ||$\\textbf{w}$||:<br>\n",
    "||$\\textbf{w}$|| = $\\sqrt{\\textbf{w} \\cdotp \\textbf{w}} = \\sqrt{(\\frac{1}{2})^{2} + (\\frac{-1}{6})^2 + (\\frac{5}{6})^2 + (\\frac{1}{6})^{2}} = \\sqrt{1} = 1$\n",
    "<br>\n",
    "<br>\n",
    "We can say that $\\textbf{w}$ is already a unit vector."
   ]
  },
  {
   "cell_type": "code",
   "execution_count": null,
   "id": "c735c0d4",
   "metadata": {},
   "outputs": [],
   "source": [
    "what's"
   ]
  },
  {
   "cell_type": "markdown",
   "id": "3e9ad4c9",
   "metadata": {},
   "source": [
    "### Pythonic examples"
   ]
  },
  {
   "cell_type": "code",
   "execution_count": 24,
   "id": "0aa75905",
   "metadata": {},
   "outputs": [
    {
     "name": "stdout",
     "output_type": "stream",
     "text": [
      "||u||:  7.416198487095663\n",
      "sqrt(55):  7.416198487095663\n",
      "||v||:  1.0\n"
     ]
    }
   ],
   "source": [
    "u = np.array([1,-2,-4,5,3])\n",
    "print('||u||: ', np.sqrt(u.dot(u)))\n",
    "print('sqrt(55): ', np.sqrt(55))\n",
    "\n",
    "v = np.array([(1/2),(-1/6),(5/6),(1/6)])\n",
    "print('||v||: ', np.sqrt(v.dot(v)))"
   ]
  },
  {
   "cell_type": "markdown",
   "id": "583d18bd",
   "metadata": {},
   "source": [
    "# Distances, Angles, and Projection Between Vectors"
   ]
  },
  {
   "cell_type": "markdown",
   "id": "6c23e188",
   "metadata": {},
   "source": [
    "- Let $\\exists$ an arbitrary vectors s.t. $\\textbf{u} = (a_{1},...,a_{n}) \\ and \\ \\textbf{v} = (b_{1},...,b_{n}) \\in R^n$\n",
    "- The Euclidean distance between $\\textbf{u} \\ and \\ \\textbf{v}$ is denoted by $d(\\textbf{u},\\textbf{v}) = ||\\textbf{u} - \\textbf{v}|| = \\sqrt{(a_{1}-b_{1})^2 + ... + (a_{n}-b_{n})^2}$.\n",
    "- The Euclidean distance in python can be done by np.linalg.norm($\\textbf{u}-\\textbf{v}$)\n",
    "<br>\n",
    "<br>\n",
    "- The angle between two non-zero vectors $\\textbf{u},\\textbf{v}$, is defined by:<br>\n",
    "$\\cos{\\theta}=\\frac{\\textbf{u} \\cdotp \\textbf{v}}{||\\textbf{u}|| \\ ||\\textbf{v}||}$\n",
    "<br>\n",
    "<br>\n",
    "<b><font color='red'>Part of your assignment show that $-1\\leq\\frac{\\textbf{u} \\cdotp \\textbf{v}}{||\\textbf{u}|| \\ ||\\textbf{v}||} \\leq 1$<font><b>\n",
    "<br>\n",
    "<br>\n",
    "- The projection of a vector $\\textbf{u}$ onto a non-zero vector $\\textbf{v}$ is defined by:<br>\n",
    "$proj(\\textbf{u},\\textbf{v}) = \\frac{\\textbf{u} \\cdotp \\textbf{v}}{\\textbf{v} \\cdotp \\textbf{v}} \\textbf{v} = \\frac{\\textbf{u} \\cdotp \\textbf{v}}{||\\textbf{v}||^2} \\textbf{v}$"
   ]
  },
  {
   "cell_type": "markdown",
   "id": "70fc54af",
   "metadata": {},
   "source": [
    "### Examples"
   ]
  },
  {
   "cell_type": "markdown",
   "id": "8b481ad1",
   "metadata": {},
   "source": [
    "- Suppose $\\textbf{u} = (1,-2,3),\\textbf{v}=(2,4,5)$\n",
    "- The distance is: <br>\n",
    "    $d(\\textbf{u},\\textbf{v}) = ||\\textbf{u} - \\textbf{v}|| = \\sqrt{(1-2)^2 + (-2-4)^2 + (3-5)^2} = \\sqrt{1+36+4} = \\sqrt{41}$.\n",
    "- The angle is: <br>\n",
    "$\\cos{\\theta}=\\frac{\\textbf{u} \\cdotp \\textbf{v}}{||\\textbf{u}|| \\ ||\\textbf{v}||} = \\frac{1(2)+(-2)(4)+3(5)}{\\sqrt{1^2+(-2)^2+3^2}\\sqrt{2^2+4^2+5^2}} = \\frac{9}{\\sqrt{14}\\sqrt{45}}$\n",
    "- The projection is: <br>\n",
    "$proj(\\textbf{u},\\textbf{v}) = \\frac{\\textbf{u} \\cdotp \\textbf{v}}{||\\textbf{v}||^2} \\textbf{v} = \\frac{9}{(\\sqrt{45})^2}(2,4,5) =\\frac{1}{5}(2,4,5) = (\\frac{2}{5},\\frac{4}{5},1)$"
   ]
  },
  {
   "cell_type": "markdown",
   "id": "41d4c09f",
   "metadata": {},
   "source": [
    "### Pythonic Examples"
   ]
  },
  {
   "cell_type": "code",
   "execution_count": 35,
   "id": "50f97b47",
   "metadata": {},
   "outputs": [
    {
     "name": "stdout",
     "output_type": "stream",
     "text": [
      "d(u,v):  6.4031242374328485\n",
      "sqrt(41) 6.4031242374328485\n",
      "angle: 0.35856858280031806\n",
      "angle: 0.35856858280031806\n",
      "proj(u,v):  [0.4 0.8 1. ]\n",
      "proj(u,v):  [0.4, 0.8, 1]\n"
     ]
    }
   ],
   "source": [
    "u = np.array([1,-2,3])\n",
    "v = np.array([2,4,5])\n",
    "print(\"d(u,v): \", np.linalg.norm(u-v))\n",
    "print(\"sqrt(41)\", np.sqrt(41))\n",
    "print(\"angle:\",u.dot(v)/(np.linalg.norm(u)*np.linalg.norm(v)))\n",
    "print(\"angle:\",9/(np.sqrt(14)*np.sqrt(45)))\n",
    "print(\"proj(u,v): \",u.dot(v)*v/(np.linalg.norm(v)**2) )\n",
    "print(\"proj(u,v): \",[2/5,4/5,1])"
   ]
  },
  {
   "cell_type": "markdown",
   "id": "1ba2c476",
   "metadata": {},
   "source": [
    "# Located Vectors,  Hyperplanes, and Lines\n",
    "---"
   ]
  },
  {
   "cell_type": "markdown",
   "id": "e3f6b213",
   "metadata": {},
   "source": [
    "## Located Vectors\n",
    "- Any pairs of points $A \\ and \\ B \\in R^n$ defines a located vector or directed line segment from A to B written as: $\\overrightarrow{\\rm AB}$.\n",
    "<br>\n",
    "<br>\n",
    "- The vector of $\\overrightarrow{\\rm AB}$, is denoted as $\\textbf{u}=B-A = [b_{1}-a_{1},...,b_{n}-a_{n}]$.\n",
    "\n",
    "## Hyperplanes\n",
    "- A hyperplane in $H \\in R^n$ is the set of points $(x_{1},..,x_{n})$ that satisfy the linear equation:\n",
    "$a_1x_1 + a_2x_2 + ... + a_nx_n = b$.\n",
    "\n",
    "- The vector $textbf{u} = [a_1, a_2, ..., a_n]$ which represents the coefficient is not zero.\n",
    "\n",
    "- The hyperplane for $R^2$ is a line, while the hyperplane for $R^3$ is a plane.\n",
    "\n",
    "## Lines in $R^n$\n",
    "- The line $L$ in $R^n$ passing through point P(b_1, b_2, ..., b_n) and in the direction of a nonzero vector $\\textbf{u} = [a_1, a_2, ...., a_n]$ consists of the points $X(x_1, x_2, ...., x_n)$, with a parameter $t$ that takes in all real values which satisfy either one of the following: <br>\n",
    "a. $X = P + t \\textbf{u}$\n",
    "<br>\n",
    "<br>\n",
    "b. $\n",
    "\\begin{cases}\n",
    "    \\ x_1=a_1t+b_1\\\\\n",
    "    x_2=a_2t+b_2\\\\\n",
    "    ...\\\\\n",
    "    x_n=a_nt+b_n\n",
    "\\end{cases}$\n",
    "<br>\n",
    "<br>\n",
    "c. $L(t) = (a_it+b_i)$"
   ]
  },
  {
   "cell_type": "markdown",
   "id": "71f38ca5",
   "metadata": {},
   "source": [
    "### Examples\n",
    "---\n",
    "a. Let H be the plane in $R^3$ corresponding to the linear equation $2x-5y+7z = 4$. If P(1,1,1) and Q(5,4,2) are solutions to the equation, then the directed line segment $\\overrightarrow{\\rm PQ}$ is: <br>\n",
    "$\\textbf{v} = \\overrightarrow{\\rm PQ} = Q-P = [5-1, 4-1, 2-1] = [4,3,1]$ lie on the plane of H.<br>\n",
    "To show that the vector of coefficient $textbf{u} = [2,5,7]$ is normal to H then:<br>\n",
    "$\\textbf{u} \\cdotp \\textbf{v} = [2,-5,7] \\cdotp [4,3,2] = 8-15-7 = 0$\n",
    "\n",
    "b. Find an equation of the hyperplane $H$ in $R^4$ that passes through the point(1,3,-4,2) and is notmal to the vector $\\textbf{u}=[4,-2,5,6]$.<br>\n",
    "<br>\n",
    "Solution:<br>\n",
    "Hint: The coefficients of the unknowns of an equation of H are the components of the normal vector $\\textbf{u}$ hence the equation of H takes the form of:<br>\n",
    "$4x_1-2x_2+5x_3+6x_4 = k$ <br>\n",
    "Hint: We are given a point point(1,3,-4,2), substitue the values of the point the x's<br>\n",
    "$4(1)-2(3)+5(-4)+6(2) = k$<br>\n",
    "$-10 = k$<br>\n",
    "hence:<br>\n",
    "$4x_1-2x_2+5x_3+6x_4 = -10$ <br>"
   ]
  },
  {
   "cell_type": "markdown",
   "id": "84258ff8",
   "metadata": {},
   "source": [
    "References<br>\n",
    "Books with * symbol are highly recommended<br>\n",
    "- Linear Algebra: A Modern Approach $3^{rd}$ edition, Poole*\n",
    "- Linear Algebra, $5^{th}$ edition, Friedberg, Insel, Spence*\n",
    "- Matrix Analysis and Applied Linear Algebra, Meyer.\n",
    "- Linear Algebra, $6^{th}$ edition Lipschutz, Lipson*\n",
    "- Linear Algebra Coding with Python, Son"
   ]
  },
  {
   "cell_type": "markdown",
   "id": "315ec965",
   "metadata": {},
   "source": [
    "# Sample Problems"
   ]
  },
  {
   "cell_type": "markdown",
   "id": "05518149",
   "metadata": {},
   "source": [
    "## Vectors in $R^n$\n",
    "---\n",
    "1. Which of the following vectors are equal:<br>\n",
    "$\\textbf{u}_{1}$ = (1,2,3)<br>\n",
    "$\\textbf{u}_{2}$ = (2,3,1)<br>\n",
    "$\\textbf{u}_{3}$ = (1,3,2)<br>\n",
    "$\\textbf{u}_{4}$ = (2,3,1)<br>\n",
    "Solution: <br>\n",
    "- Vectors are equal iff the entries are equal, hence only $\\textbf{u}_{2} = \\textbf{u}_{4}$<br>\n",
    "- Question what's the physical significance of this?<br><br><br>\n",
    "2. Given:\n",
    "- Let $\\textbf{u} = [2,-7,1]^{T}$\n",
    "- Let $\\textbf{v} = [-3,0,4]^{T}$\n",
    "- Let $\\textbf{w} = [0,5,-8]^{T}$\n",
    "- Find:\n",
    "a. 3$\\textbf{u}$-4$\\textbf{v}$\n",
    "- solution:\n",
    "\\begin{align}\n",
    "    3\\textbf{u}-4\\textbf{v} &= 3\\begin{bmatrix}\n",
    "           2 \\\\\n",
    "           -7 \\\\\n",
    "           -1\n",
    "         \\end{bmatrix} - 4 \\begin{bmatrix}\n",
    "           -3 \\\\\n",
    "           0 \\\\\n",
    "           4\n",
    "         \\end{bmatrix}= \\begin{bmatrix}\n",
    "           6 \\\\\n",
    "           -21 \\\\\n",
    "           3\n",
    "         \\end{bmatrix} + \\begin{bmatrix}\n",
    "           12 \\\\\n",
    "           0 \\\\\n",
    "           -16\n",
    "         \\end{bmatrix} = \\begin{bmatrix}\n",
    "           18 \\\\\n",
    "           -21 \\\\\n",
    "           -13\n",
    "         \\end{bmatrix}\n",
    "  \\end{align}\n",
    "<br><br><br>\n",
    "b. 2$\\textbf{u}+3\\textbf{v}-5\\textbf{w}$\n",
    "- solution:\n",
    "\\begin{align}\n",
    "    2\\textbf{u}+3\\textbf{v}-5\\textbf{w} &= 2\\begin{bmatrix}\n",
    "           2 \\\\\n",
    "           -7 \\\\\n",
    "           1\n",
    "         \\end{bmatrix} +3 \\begin{bmatrix}\n",
    "           -3 \\\\\n",
    "           0 \\\\\n",
    "           4\n",
    "         \\end{bmatrix} -5 \\begin{bmatrix}\n",
    "           0 \\\\\n",
    "           5 \\\\\n",
    "           -8\n",
    "         \\end{bmatrix}= \\begin{bmatrix}\n",
    "           4 \\\\\n",
    "           -14 \\\\\n",
    "           2\n",
    "         \\end{bmatrix} + \\begin{bmatrix}\n",
    "           -9 \\\\\n",
    "           0\\\\\n",
    "          12\n",
    "         \\end{bmatrix}+ \\begin{bmatrix}\n",
    "           0 \\\\\n",
    "           -15\\\\\n",
    "          40\n",
    "         \\end{bmatrix} = \\begin{bmatrix}\n",
    "           -5 \\\\\n",
    "           -39 \\\\\n",
    "           54\n",
    "         \\end{bmatrix}\n",
    "  \\end{align}\n",
    "\n",
    "\n",
    "3. Given\n",
    "- Let $\\textbf{u} = [5,3,-4]^{T}$\n",
    "- Let $\\textbf{v} = [-1,5,2]^{T}$\n",
    "- Let $\\textbf{w} = [3,-1,-2]^{T}$\n",
    "- Find:\n",
    "a. 5$\\textbf{u}$-2$\\textbf{v}$\n",
    "- solution:\n",
    "\\begin{align}\n",
    "    5\\textbf{u}-2\\textbf{v} &= 5\\begin{bmatrix}\n",
    "           5 \\\\\n",
    "           3 \\\\\n",
    "           -4\n",
    "         \\end{bmatrix} - 2 \\begin{bmatrix}\n",
    "           -1 \\\\\n",
    "           5 \\\\\n",
    "           2\n",
    "         \\end{bmatrix}= \\begin{bmatrix}\n",
    "           25 \\\\\n",
    "           15 \\\\\n",
    "           -20\n",
    "         \\end{bmatrix} + \\begin{bmatrix}\n",
    "           2 \\\\\n",
    "           -10 \\\\\n",
    "           -4\n",
    "         \\end{bmatrix} = \\begin{bmatrix}\n",
    "           27 \\\\\n",
    "           5 \\\\\n",
    "           -24\n",
    "         \\end{bmatrix}\n",
    "  \\end{align}\n",
    "<br><br><br>\n",
    "b. -2$\\textbf{u}+4\\textbf{v}-3\\textbf{w}$\n",
    "- solution:\n",
    "\\begin{align}\n",
    "    -2\\textbf{u}+4\\textbf{v}-3\\textbf{w} &= -2\\begin{bmatrix}\n",
    "           5 \\\\\n",
    "           3 \\\\\n",
    "           -4\n",
    "         \\end{bmatrix} +4 \\begin{bmatrix}\n",
    "           -1 \\\\\n",
    "           5 \\\\\n",
    "           2\n",
    "         \\end{bmatrix} -3 \\begin{bmatrix}\n",
    "           3 \\\\\n",
    "           -1 \\\\\n",
    "           -2\n",
    "         \\end{bmatrix}= \\begin{bmatrix}\n",
    "           -10 \\\\\n",
    "           -6 \\\\\n",
    "           8\n",
    "         \\end{bmatrix} + \\begin{bmatrix}\n",
    "           -4 \\\\\n",
    "           20\\\\\n",
    "          8\n",
    "         \\end{bmatrix}+ \\begin{bmatrix}\n",
    "           -9 \\\\\n",
    "           3\\\\\n",
    "          6\n",
    "         \\end{bmatrix} = \\begin{bmatrix}\n",
    "           -23 \\\\\n",
    "           17 \\\\\n",
    "           22\n",
    "         \\end{bmatrix}\n",
    "  \\end{align}"
   ]
  },
  {
   "cell_type": "markdown",
   "id": "3f432fe7",
   "metadata": {},
   "source": [
    "#### Pythonic Solution to the above problem"
   ]
  },
  {
   "cell_type": "code",
   "execution_count": 9,
   "id": "2a8d9b28",
   "metadata": {},
   "outputs": [
    {
     "name": "stdout",
     "output_type": "stream",
     "text": [
      "3𝐮-4𝐯:  [ 18 -21 -13]\n",
      "2 𝐮+3𝐯−5𝐰:  [ -5 -39  54]\n"
     ]
    }
   ],
   "source": [
    "import numpy as np\n",
    "u = np.array([2,-7,1])\n",
    "v = np.array([-3,0,4])\n",
    "w = np.array([0,5,-8])\n",
    "\n",
    "print(\"3𝐮-4𝐯: \", (3*u) - (4*v))\n",
    "print(\"2 𝐮+3𝐯−5𝐰: \", (2*u) + (3*v) - (5*w))"
   ]
  },
  {
   "cell_type": "code",
   "execution_count": 11,
   "id": "a339cd0e",
   "metadata": {},
   "outputs": [
    {
     "name": "stdout",
     "output_type": "stream",
     "text": [
      "5 𝐮-2 𝐯:  [ 27   5 -24]\n",
      "-2 𝐮+4𝐯−3𝐰:  [-23  17  22]\n"
     ]
    }
   ],
   "source": [
    "import numpy as np\n",
    "u = np.array([5,3,-4])\n",
    "v = np.array([-1,5,2])\n",
    "w = np.array([3,-1,-2])\n",
    "\n",
    "print(\"5 𝐮-2 𝐯: \", (5*u) - (2*v))\n",
    "print(\"-2 𝐮+4𝐯−3𝐰: \", (-2*u) + (4*v) - (3*w))"
   ]
  },
  {
   "cell_type": "markdown",
   "id": "74d22ea2",
   "metadata": {},
   "source": [
    "## Dot (Inner) Product, Orthogonality, Norm in $R^n$\n",
    "---\n",
    "1. Find $u \\cdotp v$ where:<br>\n",
    "$u = (2,-5,6)$ and $v = (8,2,-3)$<br>\n",
    "solution:<br>\n",
    "$u \\cdotp v = u_1(v_1) + u_2(v_2) + u_3(v_3) = 2(8) - 5(2) + 6(-3) = 16-10-18 = -12$\n",
    "<br>\n",
    "<br>\n",
    "$u = (4,2,-3,5,-1)$ and $v = (2,6,-1,-4,8)$<br>\n",
    "Solution:<br>\n",
    "$u \\cdotp v = 4(2) + 2(6) + (-3)(-1) + 5(-4) + (-1)(8) = 8+12+3-20-8 = -5$\n",
    "<br>\n",
    "<br>\n",
    "<br>\n",
    "2. Let $u = (5,4,1)$ and  $v = (3,-4,1) \\ and \\ w = (1,-2,3)$ which pair of vectors, if any, are orthogonal to each other?<br>\n",
    "- By definition, to vectors are orthogonal $\\iff \\textbf{u} \\cdotp \\textbf{v} = 0$.\n",
    "- $\\textbf{u} \\cdotp \\textbf{v} = (5)(3)+(4)(-4)+(1)(1) = 15-16-1 = 0, \\therefore \\textbf{u} \\cdotp \\textbf{v}  \\ is  \\ orthogonal  \\ to  \\ each  \\ other.$\n",
    "- $\\textbf{u} \\cdotp \\textbf{w} = (5)(1)+(4)(-2)+(1)(3) = 3+8+3 = 14, 14, \\therefore \\textbf{u} \\cdotp \\textbf{v}  \\ is \\ not \\ orthogonal  \\ to  \\ each  \\ other.$\n",
    "- $\\textbf{v} \\cdotp \\textbf{w} = (3)(1)+(-4)(-2)+(1)(3) = 5-8+3 = 0, \\therefore \\textbf{w} \\cdotp \\textbf{v}  \\ is \\ orthogonal  \\ to  \\ each  \\ other.$\n",
    "<br>\n",
    "<br>\n",
    "<br>\n",
    "3. Find the value of $k$ so that the vectors $u$ and $v$ are otrhogonal.<br>\n",
    "a. $u = (1, k,-3)$ and $v = (2,-5,4)$.<br>\n",
    "Solution: <br>\n",
    "$u \\cdotp v = u_1(v_1) + u_2(v_2) + u_3(v_3) = 0$<br>\n",
    "$1(2) + k(-5) + (-3)(4) = 0$<br>\n",
    "$2-5k-12 = 0$<br>\n",
    "$-10 = 5k$<br>\n",
    "$ k = -2$\n",
    "<br>\n",
    "b. $u = (2, 3k,-4,1,5)$ and $v = (6,-1,3,7,2k)$.<br>\n",
    "$2(6) + 3k(-1) + (-4)(3) + (1)(7) + (5)(2k) = 0$<br>\n",
    "$12-3k-12+7+10k = 0$<br>\n",
    "$7 = -7k$<br>\n",
    "$ k = -1$<br>\n",
    "<br>\n",
    "4. find $||u||$ and the unique vector $u'$ to normalize $u$ for:<br>\n",
    "a. $u = (3, -12,-4)$<br>\n",
    "Solution:<br>\n",
    "- $||u|| = \\sqrt{u \\cdotp u} =\\sqrt{3(3) + (-12)(-12) + (-4)(-4)}=\\sqrt{9 + 144 + 16} = \\sqrt{169} = 13$<br>\n",
    "$u' = \\frac{u}{||u||} = (\\frac{3}{13},\\frac{-12}{13},\\frac{-4}{13})$\n",
    "<br><br>\n",
    "b. $u = (2, -3,8, -7)$<br>\n",
    "Solution:<br>\n",
    "- $||u|| = \\sqrt{u \\cdotp u}=\\sqrt{4+9 + 64 + 49} = \\sqrt{126}$\n",
    "<br>\n",
    "$u' = \\frac{u}{||u||} = (\\frac{2}{\\sqrt{126}},\\frac{-3}{\\sqrt{126}},\\frac{8}{\\sqrt{126}},\\frac{-7}{\\sqrt{126}})$<br><br>\n",
    "5. Normalize the following vectors:\n",
    "a. $\\textbf{u}$={3,-4}<br>\n",
    "solution:<br>\n",
    "- First find $||\\textbf{u}|| = \\sqrt{u \\cdotp u} = \\sqrt{(3)^s + (-4)^2} = \\sqrt{9 + 16} = \\sqrt{25} = 5$ <br>\n",
    "- The normalize value $textbf{u'} = \\frac{u}{||u||}$ = {$\\frac{3}{5},\\frac{-4}{5}$}<br>\n",
    "b. $\\textbf{u}$={4,-2,-3,8}<br>\n",
    "solution:<br>\n",
    "- First find $||\\textbf{v}|| = \\sqrt{v \\cdotp v} = \\sqrt{16 + 4 + 9+ 64} = \\sqrt{93}$ <br>\n",
    "- The normalize value $textbf{u'} = \\frac{u}{||v||}$ = {$\\frac{4}{\\sqrt{93}},\\frac{-2}{\\sqrt{93}},\\frac{-3}{\\sqrt{93}},\\frac{8}{\\sqrt{93}}$}<br>\n",
    "<br>\n",
    "6. Let $u = 1,-3,4$ and $v = (3,4,7)$<br>\n",
    "Find:<br>\n",
    "a. $\\cos{\\theta}$<br>\n",
    "Solution:<br>\n",
    "- $\\cos{\\theta} = \\frac{u \\cdotp v}{||u|| \\ ||v||}$\n",
    "- Solving for $u \\cdotp v = (1)(3) + (-3)(4) + (4)(7) = 3 - 12 + 28 = 19$\n",
    "- Solving for $||u|| = \\sqrt{u \\cdotp u} = \\sqrt{(1)(1) + (-3)(-3)+(4)(4)} = \\sqrt{1+9+16} = \\sqrt{26}$\n",
    "- Solving for $||v|| = \\sqrt{v \\cdotp v} = \\sqrt{(3)(3) + (4)(4) + (7)(7)} = \\sqrt{9+16+49} = \\sqrt{74}$\n",
    "- $ \\therefore \\cos{\\theta} = \\frac{u \\cdotp v}{||u|| \\ ||v||} = = \\frac{19}{\\sqrt{26} \\ \\sqrt{74}}$<br>\n",
    "b. Find $proj(u,v)$<br>\n",
    "Solution: <br>\n",
    "- $proj(u,v) = \\frac{u \\cdotp v}{||v||^2}v = \\frac{19}{(\\sqrt{74})^2}(3,4,7) = (\\frac{57}{74},\\frac{76}{74},\\frac{133}{74}) $<br><br>\n",
    "c. Find $d(u,v)$<br>\n",
    "Solution:<br>\n",
    "- $d(u,v) = ||u-v|| = \\sqrt{(1-3)^2 + (-3-4)^2 + (4-7)^2} = \\sqrt{(-2)^2 + (-7)^2 + (-3)^2} = \\sqrt{4+49+9} = \\sqrt{62}$"
   ]
  },
  {
   "cell_type": "markdown",
   "id": "359268f4",
   "metadata": {},
   "source": [
    "##### Pythonic Solution to 1"
   ]
  },
  {
   "cell_type": "code",
   "execution_count": 12,
   "id": "b9144d8e",
   "metadata": {},
   "outputs": [
    {
     "name": "stdout",
     "output_type": "stream",
     "text": [
      "u.v:  -12\n"
     ]
    }
   ],
   "source": [
    "import numpy as np\n",
    "u = np.array([2,-5,6])\n",
    "v = np.array([8,2,-3])\n",
    "print('u.v: ', u.dot(v))"
   ]
  },
  {
   "cell_type": "code",
   "execution_count": 13,
   "id": "a34a25e3",
   "metadata": {},
   "outputs": [
    {
     "name": "stdout",
     "output_type": "stream",
     "text": [
      "u.v:  -5\n"
     ]
    }
   ],
   "source": [
    "import numpy as np\n",
    "u = np.array([4,2,-3,5,-1])\n",
    "v = np.array([2,6,-1,-4,8])\n",
    "print('u.v: ', u.dot(v))"
   ]
  },
  {
   "cell_type": "markdown",
   "id": "d0521599",
   "metadata": {},
   "source": [
    "##### Pythonic Solution to 2"
   ]
  },
  {
   "cell_type": "code",
   "execution_count": 17,
   "id": "8ba61924",
   "metadata": {},
   "outputs": [
    {
     "name": "stdout",
     "output_type": "stream",
     "text": [
      "u.v:  0\n",
      "u.w:  14\n",
      "v.w:  0\n"
     ]
    }
   ],
   "source": [
    "import numpy as np\n",
    "u = np.array([5,4,1])\n",
    "v = np.array([3,-4,1])\n",
    "w = np.array([1,-2,3])\n",
    "print('u.v: ', u.dot(v))\n",
    "print('u.w: ', v.dot(w))\n",
    "print('v.w: ', u.dot(w))"
   ]
  },
  {
   "cell_type": "markdown",
   "id": "e8f6523a",
   "metadata": {},
   "source": [
    "##### Pythonic Solution to 4"
   ]
  },
  {
   "cell_type": "code",
   "execution_count": 20,
   "id": "51cfa24b",
   "metadata": {},
   "outputs": [
    {
     "name": "stdout",
     "output_type": "stream",
     "text": [
      "||u||:  13.0\n",
      "||v||:  11.224972160321824\n"
     ]
    }
   ],
   "source": [
    "u = np.array([3,-12,-4])\n",
    "v = np.array([2,-3,8,-7])\n",
    "print('||u||: ', np.sqrt(u.dot(u)))\n",
    "print('||v||: ', np.sqrt(v.dot(v)))"
   ]
  },
  {
   "cell_type": "markdown",
   "id": "2f1d0105",
   "metadata": {},
   "source": [
    "##### Pythonic Solution 5"
   ]
  },
  {
   "cell_type": "code",
   "execution_count": 25,
   "id": "5f6d5bde",
   "metadata": {},
   "outputs": [
    {
     "name": "stdout",
     "output_type": "stream",
     "text": [
      "u':  [ 0.6 -0.8]\n",
      "v':  [ 0.41478068 -0.20739034 -0.31108551 -0.82956136]\n"
     ]
    }
   ],
   "source": [
    "u = np.array([3,-4])\n",
    "v = np.array([4,-2,-3,-8])\n",
    "print(\"u': \", u/np.sqrt(u.dot(u)))\n",
    "print(\"v': \", v/np.sqrt(v.dot(v)))"
   ]
  },
  {
   "cell_type": "markdown",
   "id": "e2253a09",
   "metadata": {},
   "source": [
    "##### Pythonic Solution 6"
   ]
  },
  {
   "cell_type": "code",
   "execution_count": 30,
   "id": "6cd2691f",
   "metadata": {},
   "outputs": [
    {
     "name": "stdout",
     "output_type": "stream",
     "text": [
      "angle: 0.4331627149581756\n",
      "angle: 0.4331627149581756\n",
      "proj(u,v):  [0.77027027 1.02702703 1.7972973 ]\n",
      "proj(u,v):  [0.7702702702702703, 1.027027027027027, 1.7972972972972974]\n",
      "d(u,v):  7.874007874011811\n",
      "d(u,v):  7.874007874011811\n"
     ]
    }
   ],
   "source": [
    "u = np.array([1,-3,4])\n",
    "v = np.array([3,4,7])\n",
    "print(\"angle:\",u.dot(v)/(np.linalg.norm(u)*np.linalg.norm(v)))\n",
    "print(\"angle:\",19/(np.sqrt(26)*np.sqrt(74)))\n",
    "\n",
    "print(\"proj(u,v): \",u.dot(v)*v/(np.linalg.norm(v)**2) )\n",
    "print(\"proj(u,v): \",[57/74,76/74,133/74] )\n",
    "\n",
    "print(\"d(u,v): \", np.linalg.norm(u-v))\n",
    "print(\"d(u,v): \", np.sqrt(62))"
   ]
  },
  {
   "cell_type": "markdown",
   "id": "b9eafa58",
   "metadata": {},
   "source": [
    "# Assignment\n",
    "---\n",
    "Instructions:<br>\n",
    "1. Create a folder in your github account titled Intro_Vectors.<br>\n",
    "2. Use Jupyterhub notebook to answer the problems.<br>\n",
    "3. Rename Jupyter notebook to Intro_Vectors.ipynb.<br>\n",
    "4. Show both manual and pythonic solutions.<br>\n",
    "5. For manual solutions write it in Latex format.<br>"
   ]
  },
  {
   "cell_type": "markdown",
   "id": "2a977f5f",
   "metadata": {},
   "source": [
    "1. Let $\\textbf{u} = (1, -2, 4)$ and $\\textbf{v} = (3,5,1)$ $\\textbf{w} = (2,1,-3)$ find:<br>\n",
    "a. $3\\textbf{u}-2\\textbf{v}$<br>\n",
    "b. $5\\textbf{u}+3\\textbf{v}-4\\textbf{w}$<br>\n",
    "c. $\\textbf{u} \\cdotp \\textbf{v}$,$\\textbf{v} \\cdotp \\textbf{w}$, $\\textbf{u} \\cdotp \\textbf{w}$<br>\n",
    "d. ||$\\textbf{u}||, ||$\\textbf{v}||, ||$\\textbf{w}$||<br>\n",
    "e. If $\\theta$ is the angle between $\\textbf{u}$  and   $\\textbf{v}$, find $\\cos{\\theta}$.<br>\n",
    "f. If $\\alpha$ is the angle between $\\textbf{v}$  and   $\\textbf{w}$, find $\\cos{\\alpha}$.<br>\n",
    "g. If $\\beta$ is the angle between $\\textbf{u}$  and   $\\textbf{w}$, find $\\cos{\\beta}$.<br>\n",
    "h. Find $d(\\textbf{u},\\textbf{v})$.<br>\n",
    "i. Find $d(\\textbf{w},\\textbf{v})$.<br>\n",
    "j. Find $d(\\textbf{u},\\textbf{w})$. <br>\n",
    "k. Find $proj(\\textbf{u},\\textbf{v})$.<br>\n",
    "l. Find $proj(\\textbf{w},\\textbf{v})$.<br>\n",
    "m. Find $proj(\\textbf{u},\\textbf{w})$. <br>  \n",
    "<br>\n",
    "<br>\n",
    "2. Repeat problem 1 with the following column vectors:\n",
    "\\begin{align}\n",
    "    \\textbf{u} &= \\begin{bmatrix}\n",
    "           1 \\\\\n",
    "           3 \\\\\n",
    "           -4\n",
    "         \\end{bmatrix}, \\textbf{v} = \\begin{bmatrix}\n",
    "           2 \\\\\n",
    "           1 \\\\\n",
    "           5\n",
    "         \\end{bmatrix}, \\textbf{w} = \\begin{bmatrix}\n",
    "           3 \\\\\n",
    "           -2 \\\\\n",
    "           6\n",
    "         \\end{bmatrix}\n",
    "  \\end{align}\n",
    "<br>\n",
    "<br>\n",
    "<br>\n",
    "3. Let $\\textbf{u} = (2,-5,4,6,-3)$, $\\textbf{v} = (5,-2,1,-7,-4)$, and $\\textbf{w} = (2,1,-3)$ find:<br>\n",
    "a. $4\\textbf{u}-3\\textbf{v}$<br>\n",
    "b. $5\\textbf{u}+2\\textbf{v}-2\\textbf{w}$<br>\n",
    "c. $\\textbf{u} \\cdotp \\textbf{v}$,$\\textbf{v} \\cdotp \\textbf{w}$, $\\textbf{u} \\cdotp \\textbf{w}$<br>\n",
    "d. ||$\\textbf{u}$||, ||$\\textbf{v}$||, ||$\\textbf{w}$||<br>\n",
    "e. If $\\theta$ is the angle between $\\textbf{u}$  and   $\\textbf{v}$, find $\\cos{\\theta}$.<br>\n",
    "f. If $\\alpha$ is the angle between $\\textbf{v}$  and   $\\textbf{w}$, find $\\cos{\\alpha}$.<br>\n",
    "g. If $\\beta$ is the angle between $\\textbf{u}$  and   $\\textbf{w}$, find $\\cos{\\beta}$.<br>\n",
    "h. Find $d(\\textbf{u},\\textbf{v})$.<br>\n",
    "i. Find $d(\\textbf{w},\\textbf{v})$.<br>\n",
    "j. Find $d(\\textbf{u},\\textbf{w})$. <br>\n",
    "k. Find $proj(\\textbf{u},\\textbf{v})$.<br>\n",
    "l. Find $proj(\\textbf{w},\\textbf{v})$.<br>\n",
    "m. Find $proj(\\textbf{u},\\textbf{w})$. <br> \n",
    "<br>\n",
    "<br>\n",
    "4. Normalize each vector:<br>\n",
    "a. $\\textbf{u}$ = (5,-7).<br>\n",
    "b. $\\textbf{v}$ = (1,2,-2,4).<br>\n",
    "c. $\\textbf{w} = (\\frac{1}{2},\\frac{-1}{3},\\frac{3}{4})$.<br>\n",
    "<br>\n",
    "<br>\n",
    "5. Let $\\textbf{u} = (1,2,-2)$,$\\textbf{v} = (3,-12,4)$ and a scalar $k = -3$: <br>\n",
    "Find $||u||, ||v||, ||u+v||, ||ku||$.<br>\n",
    "<br>\n",
    "<br>\n",
    "6. Find k so that $\\textbf{u}  \\ and \\  \\textbf{v}$ are orthogonal.\n",
    "a. $\\textbf{u} = (3, k, -2), \\textbf{v} = (6, -4, -3)$.<br>\n",
    "b. $\\textbf{u} = (5,k,-4,2), \\textbf{v} = (1,-3,2,2k)$.<br>\n",
    "c. $\\textbf{u} = (1,7,k+2,-2), \\textbf{v} = (3, k, -3,k)$.<br>"
   ]
  },
  {
   "cell_type": "code",
   "execution_count": null,
   "id": "0ed39bc0",
   "metadata": {},
   "outputs": [],
   "source": []
  }
 ],
 "metadata": {
  "kernelspec": {
   "display_name": "Python 3 (ipykernel)",
   "language": "python",
   "name": "python3"
  },
  "language_info": {
   "codemirror_mode": {
    "name": "ipython",
    "version": 3
   },
   "file_extension": ".py",
   "mimetype": "text/x-python",
   "name": "python",
   "nbconvert_exporter": "python",
   "pygments_lexer": "ipython3",
   "version": "3.11.4"
  }
 },
 "nbformat": 4,
 "nbformat_minor": 5
}
