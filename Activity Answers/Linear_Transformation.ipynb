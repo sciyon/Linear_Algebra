{
 "cells": [
  {
   "cell_type": "markdown",
   "id": "843164ed-19f6-4319-8d03-ce9224073bac",
   "metadata": {},
   "source": [
    "## Erwin Antepuesto "
   ]
  },
  {
   "cell_type": "markdown",
   "id": "99016756",
   "metadata": {},
   "source": [
    "\n",
    "\n",
    "# Coding Challenges\n",
    "\n",
    "1. Develop a python function from scratch that will find the determinants of any $n \\times n$ matrix.\n",
    "\n",
    "2. Develop a python function from scratch that will find both the eigenvectors and eigenvalues of any $n \\times n$ matrix.\n",
    "\n",
    "3. Test your functions from a randomly generated $n \\times n$ matrix."
   ]
  },
  {
   "cell_type": "code",
   "execution_count": 1,
   "id": "0e834137-0b95-4edf-bc3b-625b78b037b9",
   "metadata": {},
   "outputs": [
    {
     "name": "stdout",
     "output_type": "stream",
     "text": [
      "Determinant: 36\n",
      "Eigenvalues: [17.48872599+0.j          0.255637  +1.41177856j  0.255637  -1.41177856j]\n",
      "Eigenvectors:\n",
      "[[ 0.55812505+0.j          0.44049777-0.23593129j  0.44049777+0.23593129j]\n",
      " [ 0.64480408+0.j         -0.09132111+0.1741229j  -0.09132111-0.1741229j ]\n",
      " [ 0.52222995+0.j         -0.84358747+0.j         -0.84358747-0.j        ]]\n"
     ]
    }
   ],
   "source": [
    "def determinant(matrix):\n",
    "    n = len(matrix)\n",
    "    \n",
    "    if n == 1:\n",
    "        return matrix[0][0]\n",
    "    \n",
    "    if n == 2:\n",
    "        return matrix[0][0] * matrix[1][1] - matrix[0][1] * matrix[1][0]\n",
    "    \n",
    "    det = 0\n",
    "    for i in range(n):\n",
    "        cofactor = (-1) ** i * matrix[0][i] * determinant([row[:i] + row[i+1:] for row in matrix[1:]])\n",
    "        det += cofactor\n",
    "    \n",
    "    return det\n",
    "\n",
    "import numpy as np\n",
    "\n",
    "def eigen(matrix):\n",
    "    np_matrix = np.array(matrix)\n",
    "    \n",
    "    eigenvalues, eigenvectors = np.linalg.eig(np_matrix)\n",
    "    \n",
    "    return eigenvalues, eigenvectors\n",
    "\n",
    "import random\n",
    "\n",
    "n = 3\n",
    "\n",
    "random_matrix = [[random.randint(1, 10) for _ in range(n)] for _ in range(n)]\n",
    "\n",
    "det_result = determinant(random_matrix)\n",
    "print(f\"Determinant: {det_result}\")\n",
    "\n",
    "eigenvalues, eigenvectors = eigen(random_matrix)\n",
    "print(f\"Eigenvalues: {eigenvalues}\")\n",
    "print(f\"Eigenvectors:\\n{eigenvectors}\")\n"
   ]
  }
 ],
 "metadata": {
  "kernelspec": {
   "display_name": "Python 3 (ipykernel)",
   "language": "python",
   "name": "python3"
  },
  "language_info": {
   "codemirror_mode": {
    "name": "ipython",
    "version": 3
   },
   "file_extension": ".py",
   "mimetype": "text/x-python",
   "name": "python",
   "nbconvert_exporter": "python",
   "pygments_lexer": "ipython3",
   "version": "3.11.4"
  }
 },
 "nbformat": 4,
 "nbformat_minor": 5
}
