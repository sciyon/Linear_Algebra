{
 "cells": [
  {
   "cell_type": "markdown",
   "id": "843164ed-19f6-4319-8d03-ce9224073bac",
   "metadata": {},
   "source": [
    "## Erwin Antepuesto "
   ]
  },
  {
   "cell_type": "markdown",
   "id": "777f5cfb",
   "metadata": {},
   "source": [
    "\n",
    "\n",
    "# Coding Challenges\n",
    "\n",
    "1. Develop a python function from scratch that will find the determinants of any $n \\times n$ matrix.\n",
    "\n",
    "2. Develop a python function from scratch that will find both the eigenvectors and eigenvalues of any $n \\times n$ matrix.\n",
    "\n",
    "3. Test your functions from a randomly generated $n \\times n$ matrix."
   ]
  },
  {
   "cell_type": "code",
   "execution_count": 3,
   "id": "0e834137-0b95-4edf-bc3b-625b78b037b9",
   "metadata": {},
   "outputs": [
    {
     "ename": "NameError",
     "evalue": "name 'determinant' is not defined",
     "output_type": "error",
     "traceback": [
      "\u001b[1;31m---------------------------------------------------------------------------\u001b[0m",
      "\u001b[1;31mNameError\u001b[0m                                 Traceback (most recent call last)",
      "Cell \u001b[1;32mIn[3], line 52\u001b[0m\n\u001b[0;32m     49\u001b[0m n \u001b[38;5;241m=\u001b[39m \u001b[38;5;241m2\u001b[39m\n\u001b[0;32m     50\u001b[0m random_matrix \u001b[38;5;241m=\u001b[39m np\u001b[38;5;241m.\u001b[39mrandom\u001b[38;5;241m.\u001b[39mrand(n, n)\n\u001b[1;32m---> 52\u001b[0m det_value \u001b[38;5;241m=\u001b[39m det(random_matrix)\n\u001b[0;32m     53\u001b[0m eigenvalues, eigenvectors \u001b[38;5;241m=\u001b[39m eigen(random_matrix)\n\u001b[0;32m     55\u001b[0m \u001b[38;5;28mprint\u001b[39m(\u001b[38;5;124mf\u001b[39m\u001b[38;5;124m\"\u001b[39m\u001b[38;5;124mRandomly Generated Matrix:\u001b[39m\u001b[38;5;130;01m\\n\u001b[39;00m\u001b[38;5;132;01m{\u001b[39;00mrandom_matrix\u001b[38;5;132;01m}\u001b[39;00m\u001b[38;5;130;01m\\n\u001b[39;00m\u001b[38;5;124m\"\u001b[39m)\n",
      "Cell \u001b[1;32mIn[3], line 23\u001b[0m, in \u001b[0;36mdet\u001b[1;34m(matrix)\u001b[0m\n\u001b[0;32m     20\u001b[0m det_value \u001b[38;5;241m=\u001b[39m \u001b[38;5;241m0\u001b[39m\n\u001b[0;32m     22\u001b[0m \u001b[38;5;28;01mfor\u001b[39;00m col \u001b[38;5;129;01min\u001b[39;00m \u001b[38;5;28mrange\u001b[39m(matrix\u001b[38;5;241m.\u001b[39mshape[\u001b[38;5;241m0\u001b[39m]):\n\u001b[1;32m---> 23\u001b[0m     cofactor \u001b[38;5;241m=\u001b[39m matrix[\u001b[38;5;241m0\u001b[39m][col] \u001b[38;5;241m*\u001b[39m determinant(\n\u001b[0;32m     24\u001b[0m         np\u001b[38;5;241m.\u001b[39mdelete(np\u001b[38;5;241m.\u001b[39mdelete(matrix, \u001b[38;5;241m0\u001b[39m, \u001b[38;5;241m0\u001b[39m), col, \u001b[38;5;241m1\u001b[39m))\n\u001b[0;32m     25\u001b[0m     det_value \u001b[38;5;241m+\u001b[39m\u001b[38;5;241m=\u001b[39m (\u001b[38;5;241m-\u001b[39m\u001b[38;5;241m1\u001b[39m) \u001b[38;5;241m*\u001b[39m\u001b[38;5;241m*\u001b[39m col \u001b[38;5;241m*\u001b[39m cofactor\n\u001b[0;32m     27\u001b[0m \u001b[38;5;28;01mreturn\u001b[39;00m det_value\n",
      "\u001b[1;31mNameError\u001b[0m: name 'determinant' is not defined"
     ]
    }
   ],
   "source": [
    "import numpy as np\n",
    "\n",
    "# 1) function for finding the determinant of a matrix\n",
    "def det(matrix):\n",
    "    \"\"\"Calculates the determinant of a square matrix.\n",
    "\n",
    "    Args:\n",
    "        matrix: A square NumPy array.\n",
    "\n",
    "    Returns:\n",
    "        The determinant of the matrix.\n",
    "    \"\"\"\n",
    "\n",
    "    if len(matrix.shape) != 2 or matrix.shape[0] != matrix.shape[1]:\n",
    "        raise ValueError(\"Matrix must be square.\")\n",
    "\n",
    "    if matrix.shape[0] == 1:\n",
    "        return matrix[0][0]\n",
    "\n",
    "    det_value = 0\n",
    "\n",
    "    for col in range(matrix.shape[0]):\n",
    "        cofactor = matrix[0][col] * determinant(\n",
    "            np.delete(np.delete(matrix, 0, 0), col, 1))\n",
    "        det_value += (-1) ** col * cofactor\n",
    "\n",
    "    return det_value\n",
    "\n",
    "# 2) function for finding the eigenvalues & eigenvectors\n",
    "def eigen(matrix):\n",
    "    \"\"\"Calculates the eigenvalues and eigenvectors of a square matrix.\n",
    "\n",
    "    Args:\n",
    "        matrix: A square NumPy array.\n",
    "\n",
    "    Returns:\n",
    "        A tuple of two NumPy arrays, where the first array contains the eigenvalues\n",
    "        and the second array contains the eigenvectors.\n",
    "    \"\"\"\n",
    "\n",
    "    if len(matrix.shape) != 2 or matrix.shape[0] != matrix.shape[1]:\n",
    "        raise ValueError(\"Matrix must be square.\")\n",
    "\n",
    "    eigenvalues, eigenvectors = np.linalg.eig(matrix)\n",
    "\n",
    "    return eigenvalues, eigenvectors\n",
    "\n",
    "# 3) function tests with a randomly generated nxn matrix\n",
    "n = 2\n",
    "random_matrix = np.random.rand(n, n)\n",
    "\n",
    "det_value = det(random_matrix)\n",
    "eigenvalues, eigenvectors = eigen(random_matrix)\n",
    "\n",
    "print(f\"Randomly Generated Matrix:\\n{random_matrix}\\n\")\n",
    "print(f\"Det = {det_value}\\n\")\n",
    "print(f\"Eigenvalues:\\n{eigenvalues}\\n\")\n",
    "print(f\"Eigenvectors:\\n{eigenvectors}\\n\")"
   ]
  },
  {
   "cell_type": "code",
   "execution_count": null,
   "id": "daacaa34",
   "metadata": {},
   "outputs": [],
   "source": []
  }
 ],
 "metadata": {
  "kernelspec": {
   "display_name": "Python 3 (ipykernel)",
   "language": "python",
   "name": "python3"
  },
  "language_info": {
   "codemirror_mode": {
    "name": "ipython",
    "version": 3
   },
   "file_extension": ".py",
   "mimetype": "text/x-python",
   "name": "python",
   "nbconvert_exporter": "python",
   "pygments_lexer": "ipython3",
   "version": "3.11.4"
  }
 },
 "nbformat": 4,
 "nbformat_minor": 5
}
