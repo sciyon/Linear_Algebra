{
 "cells": [
  {
   "cell_type": "markdown",
   "id": "7027907f",
   "metadata": {},
   "source": [
    "#### Andrea Claire M. Baulita\n",
    "# INTRO TO VECTORS ASSIGNMENT 1\n",
    "\n",
    "$$\n",
    "-1\\leq\\frac{\\textbf{u} \\cdotp \\textbf{v}}{||\\textbf{u}|| \\ ||\\textbf{v}||} \\leq 1\n",
    "$$\n",
    "##### Proof by example: \n",
    "$$\n",
    "\\textbf{u} = (5, -10, 5),\\space\n",
    "\\textbf{v} = (2, 12, -72) \\\\\n",
    "$$$$\n",
    "\\cos{\\theta}=\\frac{\\textbf{u} \\cdotp \\textbf{v}}{||\\textbf{u}|| \\ ||\\textbf{v}||} = \\frac{5(2)+(-10)(12)+3(-72)}{\\sqrt{5^2+(-10)^2+3^2}\\sqrt{2^2+12^2+(-72)^2}} = -0.39 \\\\\n",
    "$$\n",
    "<b><font color='green'>- This proves that $ -1\\leq\\frac{\\textbf{u} \\cdotp \\textbf{v}}{||\\textbf{u}|| \\ ||\\textbf{v}||} \\leq 1$ <font>"
   ]
  },
  {
   "cell_type": "markdown",
   "id": "d5a68b0e",
   "metadata": {},
   "source": [
    "##### 1. Let  $\\textbf{u} = (1, -2, 4),\\space \\textbf{v} = (3, 5, 1) \\space and\\space \\textbf{w} = (2, 1, -3)$ find the ff:\n",
    "##### a) $3{u} - 2{v}$\n",
    "$\\textbf{3u} - \\textbf{2v} = [3(1) - 2(3),\\space 3(-2) - 2(5),\\space 3(4) - 2(1)] = [-3, -16, 10]$ <br><br>\n",
    "<b> Pythonic Solution: <b>"
   ]
  },
  {
   "cell_type": "code",
   "execution_count": 96,
   "id": "78be12ca",
   "metadata": {},
   "outputs": [
    {
     "name": "stdout",
     "output_type": "stream",
     "text": [
      "3 * [ 1 -2  4]\n",
      "2 * [3 5 1]\n",
      "3u - 2v = [ -3 -16  10]\n"
     ]
    }
   ],
   "source": [
    "## 1a ##\n",
    "import numpy as np\n",
    "import sympy as sp\n",
    "\n",
    "u = np.array([1, -2, 4])   \n",
    "v = np.array([3, 5, 1])   \n",
    "print(f\"3 * {u}\")\n",
    "print(f\"2 * {v}\")\n",
    "result = 3*u - 2*v\n",
    "print(f\"3u - 2v = {result}\")"
   ]
  },
  {
   "cell_type": "markdown",
   "id": "fcb990a4",
   "metadata": {},
   "source": [
    "##### b) $5{u} + 3{v} - 4{w}$\n",
    "$\\textbf{5u} + \\textbf{3v} - \\textbf{4w} = [5(1) + 3(3) - 4(2),\\space 5(-2) + 3(5) - 4(1), \\space 5(4) + 3(1) - 4(-3)] = [6, 1, 35]$ <br><br>\n",
    "<b> Pythonic Solution: <b>"
   ]
  },
  {
   "cell_type": "code",
   "execution_count": 4,
   "id": "d77b7a53",
   "metadata": {},
   "outputs": [
    {
     "name": "stdout",
     "output_type": "stream",
     "text": [
      "5 * [ 1 -2  4]\n",
      "3 * [3 5 1]\n",
      "4 * [ 2  1 -3]\n",
      "5u + 3v - 4w = [ 6  1 35]\n"
     ]
    }
   ],
   "source": [
    "## 1b ##\n",
    "u = np.array([1, -2, 4])   \n",
    "v = np.array([3, 5, 1])  \n",
    "w = np.array([2, 1, -3])\n",
    "print(f\"5 * {u}\")\n",
    "print(f\"3 * {v}\")\n",
    "print(f\"4 * {w}\")\n",
    "result = 5*u + 3*v - 4*w\n",
    "print(f\"5u + 3v - 4w = {result}\")"
   ]
  },
  {
   "cell_type": "markdown",
   "id": "235bb775",
   "metadata": {},
   "source": [
    "##### c) ${u}\\cdotp{v}, {v}\\cdotp{w}, {u}\\cdotp{w}$\n",
    "$\\textbf{u} \\cdotp \\textbf{v} = 1(3) + (-2)(5) + 4(1) = -3$<br>\n",
    "$\\textbf{v} \\cdotp \\textbf{w} = 3(2) + 5(1) + 1(-3) = 8$<br>\n",
    "$\\textbf{u} \\cdotp \\textbf{w} = 1(2) + (-2)(1) + 4(-3) = -12$<br><br>\n",
    "<b> Pythonic Solution: <b>"
   ]
  },
  {
   "cell_type": "code",
   "execution_count": 5,
   "id": "e2018146",
   "metadata": {},
   "outputs": [
    {
     "name": "stdout",
     "output_type": "stream",
     "text": [
      "u.v =  -3\n",
      "v.w =  8\n",
      "u.w =  -12\n"
     ]
    }
   ],
   "source": [
    "## 1c ##\n",
    "u = np.array([1, -2, 4])\n",
    "v = np.array([3,5,1])   \n",
    "w = np.array([2,1,-3])   \n",
    "\n",
    "print(\"u.v = \", u.dot(v))\n",
    "print(\"v.w = \", v.dot(w))\n",
    "print(\"u.w = \", u.dot(w))"
   ]
  },
  {
   "cell_type": "markdown",
   "id": "2354f0a1",
   "metadata": {},
   "source": [
    "##### d) $||\\textbf{u}||, ||\\textbf{v}||, ||\\textbf{w}||$\n",
    "||$\\textbf{u}$|| = $\\sqrt{\\textbf{u} \\cdotp \\textbf{u}} = \\sqrt{1^{2} + (-2)^{2} + 4^{2}} = \\sqrt{21} \\space\\approx\\space 4.58$ <br>\n",
    "||$\\textbf{v}$|| = $\\sqrt{\\textbf{v} \\cdotp \\textbf{v}} = \\sqrt{3^{2} + 5^{2} + 1^{2}} = \\sqrt{35} \\space\\approx\\space 5.92$ <br>\n",
    "||$\\textbf{w}$|| = $\\sqrt{\\textbf{w} \\cdotp \\textbf{w}} = \\sqrt{2^{2} + 1^{2} + (-3)^{2}} = \\sqrt{14} \\space\\approx\\space 3.74$ <br><br>\n",
    "<b> Pythonic Solution: <b>"
   ]
  },
  {
   "cell_type": "code",
   "execution_count": 14,
   "id": "8241a8e6",
   "metadata": {},
   "outputs": [
    {
     "name": "stdout",
     "output_type": "stream",
     "text": [
      "||u||:  4.58257569495584\n",
      "sqrt(21):  4.58257569495584\n",
      "||v||:  5.916079783099616\n",
      "sqrt(35):  5.916079783099616\n",
      "||w||:  3.7416573867739413\n",
      "sqrt(14):  3.7416573867739413\n"
     ]
    }
   ],
   "source": [
    "## 1d ##\n",
    "u = np.array([1,-2,4])\n",
    "print('||u||: ', np.sqrt(u.dot(u)))\n",
    "print('sqrt(21): ', np.sqrt(21))\n",
    "v = np.array([3,5,1])\n",
    "print('||v||: ', np.sqrt(v.dot(v)))\n",
    "print('sqrt(35): ', np.sqrt(35))\n",
    "w = np.array([2,1,-3])\n",
    "print('||w||: ', np.sqrt(w.dot(w)))\n",
    "print('sqrt(14): ', np.sqrt(14))"
   ]
  },
  {
   "cell_type": "markdown",
   "id": "3205e67b",
   "metadata": {},
   "source": [
    "##### e) If $\\theta$ is the angle between $\\textbf{u}$  and   $\\textbf{v}$, find $\\cos{\\theta}$.\n",
    "$\\cos{\\theta} = \\frac{\\textbf{u} \\cdotp \\textbf{v}}{||\\textbf{u}||\\space||\\textbf{v}||}$<br>\n",
    "$\\cos{\\theta} = \\frac{1(3) + (-2)(5) + 4(1)}{\\sqrt{1^{2} + (-2)^{2} + 4^{2}}\\space\\sqrt{3^{2} + 5^{2} + 1^{2}}}$<br>\n",
    "$\\cos{\\theta} = \\frac{-3}{\\sqrt{21}\\space\\sqrt{35}} = \\frac{-\\sqrt{15}}{35}\\space\\approx\\space-0.11$<br><br>\n",
    "<b> Pythonic Solution: <b>"
   ]
  },
  {
   "cell_type": "code",
   "execution_count": 41,
   "id": "c928448b",
   "metadata": {},
   "outputs": [
    {
     "name": "stdout",
     "output_type": "stream",
     "text": [
      "angle theta: -0.11065666703449763\n",
      "angle theta: -0.11065666703449763\n"
     ]
    }
   ],
   "source": [
    "## 1e ##\n",
    "u = np.array([1, -2, 4])   \n",
    "v = np.array([3,5,1])   \n",
    "print(\"angle theta:\",u.dot(v)/(np.linalg.norm(u)*np.linalg.norm(v)))\n",
    "print(\"angle theta:\",-3/(np.sqrt(21)*np.sqrt(35)))"
   ]
  },
  {
   "cell_type": "markdown",
   "id": "f7bc94a9",
   "metadata": {},
   "source": [
    "##### f) If $\\alpha$ is the angle between $\\textbf{v}$  and   $\\textbf{w}$, find $\\cos{\\alpha}$.\n",
    "$\\cos{\\alpha} = \\frac{\\textbf{v} \\cdotp \\textbf{w}}{||\\textbf{v}||\\space||\\textbf{w}||}$<br>\n",
    "$\\cos{\\alpha} = \\frac{3(2) + (5)(1) + 1(-3)}{\\sqrt{3^{2} + 5^{2} + 1^{2}}\\space\\sqrt{2^{2} + 1^{2} + (-3)^{2}}}$<br>\n",
    "$\\cos{\\alpha} = \\frac{8}{\\sqrt{35}\\space\\sqrt{14}} = \\frac{4\\sqrt{10}}{35}\\space\\approx\\space0.36$<br><br>\n",
    "<b> Pythonic Solution: <b>"
   ]
  },
  {
   "cell_type": "code",
   "execution_count": 17,
   "id": "20d74235",
   "metadata": {},
   "outputs": [
    {
     "name": "stdout",
     "output_type": "stream",
     "text": [
      "angle alpha: 0.36140316116210053\n",
      "angle alpha: 0.36140316116210053\n"
     ]
    }
   ],
   "source": [
    "## 1f ## \n",
    "v = np.array([3,5,1])  \n",
    "w = np.array([2,1,-3])\n",
    "print(\"angle alpha:\",v.dot(w)/(np.linalg.norm(v)*np.linalg.norm(w)))\n",
    "print(\"angle alpha:\",8/(np.sqrt(35)*np.sqrt(14)))"
   ]
  },
  {
   "cell_type": "markdown",
   "id": "2ad7a57f",
   "metadata": {},
   "source": [
    "##### g) If $\\beta$ is the angle between $\\textbf{u}$  and   $\\textbf{w}$, find $\\cos{\\beta}$.\n",
    "$\\cos{\\beta} = \\frac{\\textbf{u} \\cdotp \\textbf{w}}{||\\textbf{u}||\\space||\\textbf{w}||}$<br>\n",
    "$\\cos{\\beta} = \\frac{1(2) + (-2)(1) + 4(-3)}{\\sqrt{1^{2} + (-2)^{2} + 4^{2}}\\space\\sqrt{2^{2} + 1^{2} + (-3)^{2}}}$<br>\n",
    "$\\cos{\\beta} = \\frac{-12}{\\sqrt{21}\\space\\sqrt{14}} = \\frac{-2\\sqrt{6}}{7}\\space\\approx\\space-0.70$<br><br>\n",
    "<b> Pythonic Solution: <b>"
   ]
  },
  {
   "cell_type": "code",
   "execution_count": 8,
   "id": "08b49847",
   "metadata": {},
   "outputs": [
    {
     "name": "stdout",
     "output_type": "stream",
     "text": [
      "angle beta: -0.6998542122237653\n",
      "angle beta: -0.6998542122237653\n"
     ]
    }
   ],
   "source": [
    "## 1g ##\n",
    "u = np.array([1, -2, 4])  \n",
    "w = np.array([2,1,-3])\n",
    "print(\"angle beta:\",u.dot(w)/(np.linalg.norm(u)*np.linalg.norm(w)))\n",
    "print(\"angle beta:\",-12/(np.sqrt(21)*np.sqrt(14)))"
   ]
  },
  {
   "cell_type": "markdown",
   "id": "c8764e3c",
   "metadata": {},
   "source": [
    "##### h) Find $d(\\textbf{u},\\textbf{v})$.\n",
    "$d(u,v) = ||u-v|| = \\sqrt{(1-3)^2 + ((-2)-5)^2 + (4-1)^2} = \\sqrt{4+49+9} = \\sqrt{62}\\space\\approx\\space 7.87$<br><br>\n",
    "<b> Pythonic Solution: <b>"
   ]
  },
  {
   "cell_type": "code",
   "execution_count": 10,
   "id": "d8039532",
   "metadata": {},
   "outputs": [
    {
     "name": "stdout",
     "output_type": "stream",
     "text": [
      "d(u,v):  7.874007874011811\n",
      "d(u,v):  7.874007874011811\n"
     ]
    }
   ],
   "source": [
    "## 1h ##\n",
    "u = np.array([1, -2, 4])   \n",
    "v = np.array([3,5,1])\n",
    "print(\"d(u,v): \", np.linalg.norm(u-v))\n",
    "print(\"d(u,v): \", np.sqrt(62))"
   ]
  },
  {
   "cell_type": "markdown",
   "id": "9bf01f50",
   "metadata": {},
   "source": [
    "##### i) Find $d(\\textbf{w},\\textbf{v})$.\n",
    "$d(w,v) = ||w-v|| = \\sqrt{(2-3)^2 + (1-5)^2 + ((-3)-1)^2} = \\sqrt{1+16+16} = \\sqrt{33}\\space\\approx\\space 5.74$<br><br>\n",
    "<b> Pythonic Solution: <b>"
   ]
  },
  {
   "cell_type": "code",
   "execution_count": 21,
   "id": "f6729ee7",
   "metadata": {},
   "outputs": [
    {
     "name": "stdout",
     "output_type": "stream",
     "text": [
      "d(w,v):  5.744562646538029\n",
      "d(w,v):  5.744562646538029\n"
     ]
    }
   ],
   "source": [
    "## 1i ##\n",
    "w = np.array([2,1,-3])   \n",
    "v = np.array([3,5,1])\n",
    "print(\"d(w,v): \", np.linalg.norm(w-v))\n",
    "print(\"d(w,v): \", np.sqrt(33))"
   ]
  },
  {
   "cell_type": "markdown",
   "id": "d7729907",
   "metadata": {},
   "source": [
    "##### j) Find $d(\\textbf{u},\\textbf{w})$.\n",
    "$d(u,w) = ||u-w|| = \\sqrt{(1-2)^2 + ((-2)-1^2 + (4-(-3))^2} = \\sqrt{1+9+49} = \\sqrt{59}\\space\\approx\\space 7.68$<br><br>\n",
    "<b> Pythonic Solution: <b>"
   ]
  },
  {
   "cell_type": "code",
   "execution_count": 22,
   "id": "b79a0456",
   "metadata": {},
   "outputs": [
    {
     "name": "stdout",
     "output_type": "stream",
     "text": [
      "d(u,w):  7.681145747868608\n",
      "d(u,w):  7.681145747868608\n"
     ]
    }
   ],
   "source": [
    "## 1j ##\n",
    "u = np.array([1, -2, 4])   \n",
    "w = np.array([2,1,-3])\n",
    "print(\"d(u,w): \", np.linalg.norm(u-w))\n",
    "print(\"d(u,w): \", np.sqrt(59))"
   ]
  },
  {
   "cell_type": "markdown",
   "id": "8d7f2396",
   "metadata": {},
   "source": [
    "##### k) Find $proj(\\textbf{u},\\textbf{v})$.\n",
    "$proj(u,v) = \\frac{u \\cdotp v}{||v||^2}v = \\frac{-3}{(\\sqrt{35})^2}(3,5,1) = (\\frac{-9}{35},\\frac{-3}{7},\\frac{-3}{35}) $<br><br>\n",
    "<b> Pythonic Solution: <b>"
   ]
  },
  {
   "cell_type": "code",
   "execution_count": 25,
   "id": "b399835f",
   "metadata": {},
   "outputs": [
    {
     "name": "stdout",
     "output_type": "stream",
     "text": [
      "proj(u,v):  [-0.25714286 -0.42857143 -0.08571429]\n",
      "proj(u,v):  [-0.2571428571428571, -0.42857142857142855, -0.08571428571428572]\n"
     ]
    }
   ],
   "source": [
    "## 1k ##\n",
    "u = np.array([1, -2, 4])   \n",
    "v = np.array([3,5,1])\n",
    "print(\"proj(u,v): \",u.dot(v)*v/(np.linalg.norm(v)**2) )\n",
    "print(\"proj(u,v): \",[-9/35, -3/7, -3/35])"
   ]
  },
  {
   "cell_type": "markdown",
   "id": "db4a0f7e",
   "metadata": {},
   "source": [
    "##### l) Find $proj(\\textbf{w},\\textbf{v})$.\n",
    "$proj(w,v) = \\frac{w \\cdotp v}{||v||^2}v = \\frac{8}{(\\sqrt{35})^2}(3,5,1) = (\\frac{24}{35},\\frac{8}{7},\\frac{8}{35}) $<br><br>\n",
    "<b> Pythonic Solution: <b>"
   ]
  },
  {
   "cell_type": "code",
   "execution_count": 26,
   "id": "683aca49",
   "metadata": {},
   "outputs": [
    {
     "name": "stdout",
     "output_type": "stream",
     "text": [
      "proj(w,v):  [0.68571429 1.14285714 0.22857143]\n",
      "proj(w,v):  [0.6857142857142857, 1.1428571428571428, 0.22857142857142856]\n"
     ]
    }
   ],
   "source": [
    "## 1l ##\n",
    "w = np.array([2,1,-3])  \n",
    "v = np.array([3,5,1])\n",
    "print(\"proj(w,v): \",w.dot(v)*v/(np.linalg.norm(v)**2) )\n",
    "print(\"proj(w,v): \",[24/35, 8/7, 8/35])"
   ]
  },
  {
   "cell_type": "markdown",
   "id": "700957ff",
   "metadata": {},
   "source": [
    "##### m) Find $proj(\\textbf{u},\\textbf{w})$.\n",
    "$proj(u,w) = \\frac{u \\cdotp w}{||w||^2}w = \\frac{-12}{(\\sqrt{14})^2}(2,1,-3) = (\\frac{-12}{7},\\frac{-6}{7},\\frac{18}{7}) $<br><br>\n",
    "<b> Pythonic Solution: <b>"
   ]
  },
  {
   "cell_type": "code",
   "execution_count": 6,
   "id": "38515117",
   "metadata": {},
   "outputs": [
    {
     "name": "stdout",
     "output_type": "stream",
     "text": [
      "proj(u,w):  [-1.71428571 -0.85714286  2.57142857]\n",
      "proj(u,w):  [-1.7142857142857142, -0.8571428571428571, 2.5714285714285716]\n"
     ]
    }
   ],
   "source": [
    "## 1m ##\n",
    "u = np.array([1, -2, 4])   \n",
    "w = np.array([2,1,-3])\n",
    "print(\"proj(u,w): \",u.dot(w)*w/(np.linalg.norm(w)**2) )\n",
    "print(\"proj(u,w): \",[-12/7, -6/7, 18/7])"
   ]
  },
  {
   "cell_type": "markdown",
   "id": "1b832670",
   "metadata": {},
   "source": [
    "##### 2. Repeat problem 1 with the following column vectors: \n",
    "\\begin{align}\n",
    "    \\textbf{u} &= \\begin{bmatrix}\n",
    "           1 \\\\\n",
    "           3 \\\\\n",
    "           -4\n",
    "         \\end{bmatrix}, \\textbf{v} = \\begin{bmatrix}\n",
    "           2 \\\\\n",
    "           1 \\\\\n",
    "           5\n",
    "         \\end{bmatrix}, \\textbf{w} = \\begin{bmatrix}\n",
    "           3 \\\\\n",
    "           -2 \\\\\n",
    "           6\n",
    "         \\end{bmatrix}\n",
    "  \\end{align}\n",
    "##### a) $3{u} - 2{v}$\n",
    "\\begin{align}\n",
    "     \\textbf{3u} &= 3* \\begin{bmatrix} 1 \\\\ 3 \\\\ -4\\end{bmatrix} = \n",
    "     \\begin{bmatrix}  3 \\\\ 9 \\\\ -12 \\\\ \\end{bmatrix} \\space{;}\n",
    "     \\space\\space\n",
    "     \\textbf{2v} = 2 *\\begin{bmatrix} 2 \\\\ 1 \\\\ 5 \\end{bmatrix}  = \n",
    "     \\begin{bmatrix} 4 \\\\ 2 \\\\ 10 \\\\ \\end{bmatrix} \\space\\space       \n",
    "\\end{align}\n",
    "\n",
    "\\begin{align}\n",
    "\t\\textbf{3u - 2v} = \\begin{bmatrix} 3- 4 \\\\ 9 - 2 \\\\ -12 - 10 \\\\ \\end{bmatrix}  = \\begin{bmatrix} -1 \\\\ 7 \\\\ -22 \\\\ \\end{bmatrix} \n",
    "\\end{align}\n",
    "<br><br>\n",
    "<b> Pythonic Solution: <b>"
   ]
  },
  {
   "cell_type": "code",
   "execution_count": 7,
   "id": "8e8676d4",
   "metadata": {},
   "outputs": [
    {
     "name": "stdout",
     "output_type": "stream",
     "text": [
      "3 * [ 1  3 -4]\n",
      "2 * [2 1 5]\n",
      "3u - 2v = [ -1   7 -22]\n"
     ]
    }
   ],
   "source": [
    "## 2a ##\n",
    "u = np.array([1, 3, -4])   \n",
    "v = np.array([2, 1, 5])   \n",
    "print(f\"3 * {u}\")\n",
    "print(f\"2 * {v}\")\n",
    "result = 3*u - 2*v\n",
    "print(f\"3u - 2v = {result}\")"
   ]
  },
  {
   "cell_type": "markdown",
   "id": "74db6fd5",
   "metadata": {},
   "source": [
    "##### b) $5{u} + 3{v} - 4{w}$\n",
    "\\begin{align}\n",
    "     \\textbf{5u} &= 5* \\begin{bmatrix} 1 \\\\ 3 \\\\ -4\\end{bmatrix} = \\begin{bmatrix}  5 \\\\ 15 \\\\ -20 \\\\ \\end{bmatrix} \\space{;}\n",
    "     \\space\\space\n",
    "     \\textbf{3v} = 3 *\\begin{bmatrix} 2 \\\\ 1 \\\\ 5 \\end{bmatrix}  = \\begin{bmatrix} 6 \\\\ 3 \\\\ 15 \\\\ \\end{bmatrix} \\space{;}\n",
    "     \\space\\space\n",
    "     \\textbf{4w} = 4 *\\begin{bmatrix} 3 \\\\ -2 \\\\ 6 \\end{bmatrix} = \\begin{bmatrix} 12 \\\\ -8 \\\\ 24 \\end{bmatrix}\n",
    "\\end{align}\n",
    "\n",
    "\\begin{align}\n",
    "\\textbf{5u + 3v - 4w} = \\begin{bmatrix} 5+6-12 \\\\ 15+3-(-8) \\\\ -20+15-24 \\end{bmatrix}  = \\begin{bmatrix} -1 \\\\ 26 \\\\ -29 \\\\ \\end{bmatrix} \n",
    "\\end{align}\n",
    "<br><br>\n",
    "<b> Pythonic Solution: <b>"
   ]
  },
  {
   "cell_type": "code",
   "execution_count": 8,
   "id": "865992b4",
   "metadata": {},
   "outputs": [
    {
     "name": "stdout",
     "output_type": "stream",
     "text": [
      "5 * [ 1  3 -4]\n",
      "3 * [2 1 5]\n",
      "4 *[ 3 -2  6]\n",
      "5u + 3v - 4w = [ -1  26 -29]\n"
     ]
    }
   ],
   "source": [
    "## 2b ##\n",
    "u = np.array([1, 3, -4])   \n",
    "v = np.array([2, 1, 5])\n",
    "w = np.array([3, -2, 6])\n",
    "print(f\"5 * {u}\")\n",
    "print(f\"3 * {v}\")\n",
    "print(f\"4 *{w}\")\n",
    "result = 5*u + 3*v - 4*w\n",
    "print(f\"5u + 3v - 4w = {result}\")"
   ]
  },
  {
   "cell_type": "markdown",
   "id": "69e12ba5",
   "metadata": {},
   "source": [
    "##### c) ${u}\\cdotp{v}, {v}\\cdotp{w}, {u}\\cdotp{w}$\n",
    "\\begin{align}\n",
    "\t\\textbf{u}\\cdotp{v} = \\begin{bmatrix} 1\\cdotp2 \\\\ 3\\cdotp1 \\\\ -4\\cdotp5 \\end{bmatrix}  = +\\begin{bmatrix} 2 \\\\ 3 \\\\ -20 \\\\ \\end{bmatrix} = -15\n",
    "\\end{align}\n",
    "\n",
    "\\begin{align}\n",
    "\t\\textbf{v}\\cdotp{w} = \\begin{bmatrix} 2\\cdotp3 \\\\ 1\\cdotp-2 \\\\ 5\\cdotp6 \\end{bmatrix}  = +\\begin{bmatrix} 6 \\\\ -2 \\\\ 30 \\\\ \\end{bmatrix} = 34\n",
    "\\end{align}\n",
    "\n",
    "\\begin{align}\n",
    "\t\\textbf{u}\\cdotp{w} = \\begin{bmatrix} 1\\cdotp3 \\\\ 3\\cdotp-2 \\\\ -4\\cdotp6 \\end{bmatrix}  = +\\begin{bmatrix} 3 \\\\ -6 \\\\ -24 \\\\ \\end{bmatrix} = -27\n",
    "\\end{align}\n",
    "<br><br>\n",
    "<b> Pythonic Solution: <b>"
   ]
  },
  {
   "cell_type": "code",
   "execution_count": 9,
   "id": "d1e13646",
   "metadata": {},
   "outputs": [
    {
     "name": "stdout",
     "output_type": "stream",
     "text": [
      "u.v =  -15\n",
      "v.w =  34\n",
      "u.w =  -27\n"
     ]
    }
   ],
   "source": [
    "## 2c ##\n",
    "u = np.array([1, 3, -4])\n",
    "v = np.array([2, 1, 5])   \n",
    "w = np.array([3, -2, 6])   \n",
    "\n",
    "print(\"u.v = \", u.dot(v))\n",
    "print(\"v.w = \", v.dot(w))\n",
    "print(\"u.w = \", u.dot(w))"
   ]
  },
  {
   "cell_type": "markdown",
   "id": "892a3306",
   "metadata": {},
   "source": [
    "##### d) $||\\textbf{u}||, ||\\textbf{v}||, ||\\textbf{w}||$\n",
    "||$\\textbf{u}$|| = $\\sqrt{\\textbf{u} \\cdotp \\textbf{u}} = \\sqrt{\\begin{align}\n",
    "    +\\begin{bmatrix}\n",
    "           1 \\\\\n",
    "           3 \\\\\n",
    "           -4\n",
    "         \\end{bmatrix}\\space^2\n",
    "  \\end{align}} = \\sqrt{26} \\space\\approx\\space 5.1$ <br>\n",
    "||$\\textbf{v}$|| = $\\sqrt{\\textbf{v} \\cdotp \\textbf{v}} = \\sqrt{\\begin{align}\n",
    "    +\\begin{bmatrix}\n",
    "           2 \\\\\n",
    "           1 \\\\\n",
    "           5\n",
    "         \\end{bmatrix}\\space^2\n",
    "  \\end{align}} = \\sqrt{30} \\space\\approx\\space 5.48$ <br>\n",
    "||$\\textbf{w}$|| = $\\sqrt{\\textbf{w} \\cdotp \\textbf{w}} = \\sqrt{\\begin{align}\n",
    "    +\\begin{bmatrix}\n",
    "           3 \\\\\n",
    "           -2 \\\\\n",
    "           6\n",
    "         \\end{bmatrix}\\space^2\n",
    "  \\end{align}} = \\sqrt{49} \\space\\approx\\space 7$ <br><br>\n",
    "<b> Pythonic Solution: <b>"
   ]
  },
  {
   "cell_type": "code",
   "execution_count": 5,
   "id": "5b41a409",
   "metadata": {},
   "outputs": [
    {
     "name": "stdout",
     "output_type": "stream",
     "text": [
      "||u||:  5.0990195135927845\n",
      "sqrt(26):  5.0990195135927845\n",
      "||v||:  5.477225575051661\n",
      "sqrt(30):  5.477225575051661\n",
      "||w||:  7.0\n",
      "sqrt(49):  7.0\n"
     ]
    }
   ],
   "source": [
    "## 2d ##\n",
    "u = np.array([1,3,-4])\n",
    "print('||u||: ', np.sqrt(u.dot(u)))\n",
    "print('sqrt(26): ', np.sqrt(26))\n",
    "v = np.array([2,1,5])\n",
    "print('||v||: ', np.sqrt(v.dot(v)))\n",
    "print('sqrt(30): ', np.sqrt(30))\n",
    "w = np.array([3,-2,6])\n",
    "print('||w||: ', np.sqrt(w.dot(w)))\n",
    "print('sqrt(49): ', np.sqrt(49))"
   ]
  },
  {
   "cell_type": "markdown",
   "id": "02768da0",
   "metadata": {},
   "source": [
    "##### e) If $\\theta$ is the angle between $\\textbf{u}$  and   $\\textbf{v}$, find $\\cos{\\theta}$.\n",
    "$\\cos{\\theta} = \\frac{\\textbf{u} \\cdotp \\textbf{v}}{||\\textbf{u}||\\space||\\textbf{v}||}$<br>\n",
    "$\\cos{\\theta} = \\frac{\\begin{align}\n",
    "\t+\\begin{bmatrix} 1\\cdotp2 \\\\ 3\\cdotp1 \\\\ -4\\cdotp5 \\end{bmatrix}\n",
    "\\end{align}}{\\sqrt{\\begin{align}\n",
    "    +\\begin{bmatrix}\n",
    "           1 \\\\\n",
    "           3 \\\\\n",
    "           -4\n",
    "         \\end{bmatrix}\\space^2\n",
    "  \\end{align}}\\space\\sqrt{\\begin{align}\n",
    "    +\\begin{bmatrix}\n",
    "           2 \\\\\n",
    "           1 \\\\\n",
    "           5\n",
    "         \\end{bmatrix}\\space^2\n",
    "  \\end{align}}}$<br>\n",
    "$\\cos{\\theta} = \\frac{-15}{\\sqrt{26}\\space\\sqrt{30}} = \\frac{-\\sqrt{195}}{26}\\space\\approx\\space-0.54$<br><br>\n",
    "<b> Pythonic Solution: <b>"
   ]
  },
  {
   "cell_type": "code",
   "execution_count": 6,
   "id": "b70f423b",
   "metadata": {},
   "outputs": [
    {
     "name": "stdout",
     "output_type": "stream",
     "text": [
      "angle theta: -0.5370861555295747\n",
      "angle theta: -0.5370861555295747\n"
     ]
    }
   ],
   "source": [
    "## 2e ##\n",
    "u = np.array([1, 3, -4])   \n",
    "v = np.array([2,1,5])   \n",
    "print(\"angle theta:\",u.dot(v)/(np.linalg.norm(u)*np.linalg.norm(v)))\n",
    "print(\"angle theta:\",-15/(np.sqrt(26)*np.sqrt(30)))"
   ]
  },
  {
   "cell_type": "markdown",
   "id": "e1608c3f",
   "metadata": {},
   "source": [
    "##### f) If $\\alpha$ is the angle between $\\textbf{v}$  and   $\\textbf{w}$, find $\\cos{\\alpha}$.\n",
    "$\\cos{\\alpha} = \\frac{\\textbf{v} \\cdotp \\textbf{w}}{||\\textbf{v}||\\space||\\textbf{w}||}$<br>\n",
    "$\\cos{\\alpha} = \\frac{\\begin{align}\n",
    "\t+\\begin{bmatrix} 2\\cdotp3 \\\\ 1\\cdotp-2 \\\\ 5\\cdotp6 \\end{bmatrix}\n",
    "\\end{align}}{\\sqrt{\\begin{align}\n",
    "    +\\begin{bmatrix}\n",
    "           2 \\\\\n",
    "           1 \\\\\n",
    "           5\n",
    "         \\end{bmatrix}\\space^2\n",
    "  \\end{align}}\\space\\sqrt{\\begin{align}\n",
    "    +\\begin{bmatrix}\n",
    "           3 \\\\\n",
    "           -2 \\\\\n",
    "           6\n",
    "         \\end{bmatrix}\\space^2\n",
    "  \\end{align}}}$<br>\n",
    "$\\cos{\\alpha} = \\frac{34}{\\sqrt{30}\\space\\sqrt{49}}\\space\\approx\\space0.89$<br><br>\n",
    "<b> Pythonic Solution: <b>"
   ]
  },
  {
   "cell_type": "code",
   "execution_count": 7,
   "id": "6101b98e",
   "metadata": {},
   "outputs": [
    {
     "name": "stdout",
     "output_type": "stream",
     "text": [
      "angle alpha: 0.8867889026274118\n",
      "angle alpha: 0.8867889026274118\n"
     ]
    }
   ],
   "source": [
    "## 2f ## \n",
    "v = np.array([2,1,5])  \n",
    "w = np.array([3,-2,6])\n",
    "print(\"angle alpha:\",v.dot(w)/(np.linalg.norm(v)*np.linalg.norm(w)))\n",
    "print(\"angle alpha:\",34/(np.sqrt(30)*np.sqrt(49)))"
   ]
  },
  {
   "cell_type": "markdown",
   "id": "f1c28b67",
   "metadata": {},
   "source": [
    "##### g) If $\\beta$ is the angle between $\\textbf{u}$  and   $\\textbf{w}$, find $\\cos{\\beta}$.\n",
    "$\\cos{\\beta} = \\frac{\\textbf{u} \\cdotp \\textbf{w}}{||\\textbf{u}||\\space||\\textbf{w}||}$<br>\n",
    "$\\cos{\\beta} = \\frac{\n",
    "\\begin{align}\n",
    "\t+\\begin{bmatrix} 1\\cdotp3 \\\\ 3\\cdotp-1 \\\\ -4\\cdotp6 \\end{bmatrix}\n",
    "\\end{align}\n",
    "}{\\sqrt{\\begin{align}\n",
    "    +\\begin{bmatrix}\n",
    "           1 \\\\\n",
    "           3 \\\\\n",
    "           -4\n",
    "         \\end{bmatrix}\\space^2\n",
    "  \\end{align}}\\space\\sqrt{\\begin{align}\n",
    "    +\\begin{bmatrix}\n",
    "           3 \\\\\n",
    "           -2 \\\\\n",
    "           6\n",
    "         \\end{bmatrix}\\space^2\n",
    "  \\end{align}}}$<br>\n",
    "$\\cos{\\beta} = \\frac{-27}{\\sqrt{26}\\space\\sqrt{49}}\\space\\approx\\space-0.76$<br><br>\n",
    "<b> Pythonic Solution: <b>"
   ]
  },
  {
   "cell_type": "code",
   "execution_count": 9,
   "id": "88259ba6",
   "metadata": {},
   "outputs": [
    {
     "name": "stdout",
     "output_type": "stream",
     "text": [
      "angle beta: -0.7564479498187099\n",
      "angle beta: -0.7564479498187099\n"
     ]
    }
   ],
   "source": [
    "## 2g ##\n",
    "u = np.array([1, 3, -4])  \n",
    "w = np.array([3,-2,6])\n",
    "print(\"angle beta:\",u.dot(w)/(np.linalg.norm(u)*np.linalg.norm(w)))\n",
    "print(\"angle beta:\",-27/(np.sqrt(26)*np.sqrt(49)))"
   ]
  },
  {
   "cell_type": "markdown",
   "id": "3e336944",
   "metadata": {},
   "source": [
    "##### h) Find $d(\\textbf{u},\\textbf{v})$.\n",
    "$d(u,v) = ||u-v|| = \\sqrt{\n",
    "\\begin{align}\n",
    "    +\\begin{bmatrix}\n",
    "           1 - 2 \\\\\n",
    "           3 - 1 \\\\\n",
    "           -4 - 5\n",
    "      \\end{bmatrix}\\space^2\n",
    "\\end{align}} =\\sqrt{86}\\space\\approx\\space 9.27$<br><br>\n",
    "<b> Pythonic Solution: <b>"
   ]
  },
  {
   "cell_type": "code",
   "execution_count": 11,
   "id": "83cfefb9",
   "metadata": {},
   "outputs": [
    {
     "name": "stdout",
     "output_type": "stream",
     "text": [
      "d(u,v):  9.273618495495704\n"
     ]
    }
   ],
   "source": [
    "## 2h ##\n",
    "u = np.array([1,3,-4])\n",
    "v = np.array([2,1,5])\n",
    "print(\"d(u,v): \", np.linalg.norm(u-v))"
   ]
  },
  {
   "cell_type": "markdown",
   "id": "ae163f3d",
   "metadata": {},
   "source": [
    "##### i) Find $d(\\textbf{w},\\textbf{v})$.\n",
    "$d(w,v) = ||w-v|| = \\sqrt{\n",
    "\\begin{align}\n",
    "    +\\begin{bmatrix}\n",
    "           3 - 2 \\\\\n",
    "           -2 - 1 \\\\\n",
    "           6 - 5\n",
    "      \\end{bmatrix}\\space^2\n",
    "\\end{align}} =\\sqrt{11}\\space\\approx\\space 3.32$<br><br>\n",
    "<b> Pythonic Solution: <b>"
   ]
  },
  {
   "cell_type": "code",
   "execution_count": 12,
   "id": "bed6b38e",
   "metadata": {},
   "outputs": [
    {
     "name": "stdout",
     "output_type": "stream",
     "text": [
      "d(w,v):  3.3166247903554\n"
     ]
    }
   ],
   "source": [
    "## 2i ##\n",
    "w = np.array([3,-2,6])\n",
    "v = np.array([2,1,5])\n",
    "print(\"d(w,v): \", np.linalg.norm(w-v))"
   ]
  },
  {
   "cell_type": "markdown",
   "id": "2c1a25e2",
   "metadata": {},
   "source": [
    "##### j) Find $d(\\textbf{u},\\textbf{w})$.\n",
    "$d(u,v) = ||u-w|| = \\sqrt{\n",
    "\\begin{align}\n",
    "    +\\begin{bmatrix}\n",
    "           1 - 3 \\\\\n",
    "           3 - (-2) \\\\\n",
    "           -4 - 6\n",
    "      \\end{bmatrix}\\space^2\n",
    "\\end{align}} =\\sqrt{129}\\space\\approx\\space 11.36$<br><br>\n",
    "<b> Pythonic Solution: <b>"
   ]
  },
  {
   "cell_type": "code",
   "execution_count": 13,
   "id": "a55f56f8",
   "metadata": {},
   "outputs": [
    {
     "name": "stdout",
     "output_type": "stream",
     "text": [
      "d(u,w):  11.357816691600547\n"
     ]
    }
   ],
   "source": [
    "## 2j ##\n",
    "u = np.array([1,3,-4])\n",
    "w = np.array([3,-2,6])\n",
    "print(\"d(u,w): \", np.linalg.norm(u-w))"
   ]
  },
  {
   "cell_type": "markdown",
   "id": "0dec8887",
   "metadata": {},
   "source": [
    "##### k) Find $proj(\\textbf{u},\\textbf{v})$.\n",
    "$proj(u,v) = \\frac{u \\cdotp v}{||v||^2}v = \\frac{-15}{(\\sqrt{30})^2}\n",
    "\\begin{align}\n",
    "\t\\begin{bmatrix}\n",
    "    2 \\\\\n",
    "    1 \\\\\n",
    "    5 \\\\\n",
    "    \\end{bmatrix}\n",
    "\\end{align} = (-1,\\frac{-1}{2},\\frac{-5}{2}) $<br>\n",
    "<b> Pythonic Solution: <b>"
   ]
  },
  {
   "cell_type": "code",
   "execution_count": 16,
   "id": "147d59dc",
   "metadata": {},
   "outputs": [
    {
     "name": "stdout",
     "output_type": "stream",
     "text": [
      "proj(u,v):  [-1.  -0.5 -2.5]\n",
      "proj(u,v):  [-1, -0.5, -2.5]\n"
     ]
    }
   ],
   "source": [
    "## 2k ##\n",
    "u = np.array([1, 3, -4])   \n",
    "v = np.array([2,1,5])\n",
    "print(\"proj(u,v): \",u.dot(v)*v/(np.linalg.norm(v)**2) )\n",
    "print(\"proj(u,v): \",[-1, -1/2, -5/2])"
   ]
  },
  {
   "cell_type": "markdown",
   "id": "e66a1a2b",
   "metadata": {},
   "source": [
    "##### l) Find $proj(\\textbf{w},\\textbf{v})$.\n",
    "$proj(w,v) = \\frac{w \\cdotp v}{||v||^2}v = \\frac{34}{(\\sqrt{30})^2}\n",
    "\\begin{align}\n",
    "\t\\begin{bmatrix}\n",
    "    2 \\\\\n",
    "    1 \\\\\n",
    "    5 \\\\\n",
    "    \\end{bmatrix}\n",
    "\\end{align} = (\\frac{34}{15},\\frac{17}{15},\\frac{17}{3}) $<br>\n",
    "<b> Pythonic Solution: <b>"
   ]
  },
  {
   "cell_type": "code",
   "execution_count": 18,
   "id": "93c933e5",
   "metadata": {},
   "outputs": [
    {
     "name": "stdout",
     "output_type": "stream",
     "text": [
      "proj(w,v):  [2.26666667 1.13333333 5.66666667]\n",
      "proj(w,v):  [2.2666666666666666, 1.1333333333333333, 5.666666666666667]\n"
     ]
    }
   ],
   "source": [
    "## 2l ##\n",
    "w = np.array([3, -2, 6])   \n",
    "v = np.array([2,1,5])\n",
    "print(\"proj(w,v): \",w.dot(v)*v/(np.linalg.norm(v)**2) )\n",
    "print(\"proj(w,v): \",[34/15, 17/15, 17/3])"
   ]
  },
  {
   "cell_type": "markdown",
   "id": "a66512b8",
   "metadata": {},
   "source": [
    "##### m) Find $proj(\\textbf{u},\\textbf{w})$.\n",
    "$proj(u,w) = \\frac{u \\cdotp w}{||w||^2}v = \\frac{-27}{(\\sqrt{49})^2}\n",
    "\\begin{align}\n",
    "\t\\begin{bmatrix}\n",
    "    3 \\\\\n",
    "    -2 \\\\\n",
    "    6 \\\\\n",
    "    \\end{bmatrix}\n",
    "\\end{align} = (\\frac{-81}{49},\\frac{54}{49},\\frac{-162}{49}) $<br>\n",
    "<b> Pythonic Solution: <b>"
   ]
  },
  {
   "cell_type": "code",
   "execution_count": 19,
   "id": "5f03fc7d",
   "metadata": {},
   "outputs": [
    {
     "name": "stdout",
     "output_type": "stream",
     "text": [
      "proj(u,w):  [-1.65306122  1.10204082 -3.30612245]\n",
      "proj(u,w):  [-1.653061224489796, 1.1020408163265305, -3.306122448979592]\n"
     ]
    }
   ],
   "source": [
    "## 2m ##\n",
    "u = np.array([1, 3, -4])   \n",
    "w = np.array([3, -2, 6])\n",
    "print(\"proj(u,w): \",u.dot(w)*w/(np.linalg.norm(w)**2) )\n",
    "print(\"proj(u,w): \",[-81/49, 54/49, -162/49])"
   ]
  },
  {
   "cell_type": "markdown",
   "id": "f3e40b6b",
   "metadata": {},
   "source": [
    "##### 3. Let  $\\textbf{u} = (2, -5, 4, 6, -3),\\space \\textbf{v} = (5, -2, 1, -7, -4) \\space and\\space \\textbf{w} = (2, 1, -3)$ find the ff:\n",
    "##### a) $4{u} - 3{v}$\n",
    "$\\textbf{4u} - \\textbf{3v} = [4(2) - 3(5),\\space 4(-5) - 3(-2),\\space 4(4) - 3(1),\\space 4(6) - 3(-7),\\space 4(-3) - 3(-4)] = [-7, -14, 13, 45, 0]$ <br><br>\n",
    "<b> Pythonic Solution: <b>"
   ]
  },
  {
   "cell_type": "code",
   "execution_count": 20,
   "id": "3ed8553d",
   "metadata": {},
   "outputs": [
    {
     "name": "stdout",
     "output_type": "stream",
     "text": [
      "4 * [ 2 -5  4  6 -3]\n",
      "3 * [ 5 -2  1 -7 -4]\n",
      "4u - 3v = [ -7 -14  13  45   0]\n"
     ]
    }
   ],
   "source": [
    "## 3a ##\n",
    "import numpy as np\n",
    "\n",
    "u = np.array([2,-5,4,6,-3])   \n",
    "v = np.array([5,-2,1,-7,-4])   \n",
    "print(f\"4 * {u}\")\n",
    "print(f\"3 * {v}\")\n",
    "result = 4*u - 3*v\n",
    "print(f\"4u - 3v = {result}\")"
   ]
  },
  {
   "cell_type": "markdown",
   "id": "7c3c5c0f",
   "metadata": {},
   "source": [
    "##### b) $5{u} + 2{v} - 2{w}$\n",
    "$\\textbf{5u} + \\textbf{2v} - \\textbf{2w} = [5(2) + 2(5) - 2(2),\\space 5(-5) + 2(-2) - 2(1),\\space 5(4) + 2(1) - 2(-3),\\space 5(6) + 2(-7),\\space 5(-3) + 2(-4)] = [16, -31, 28, \\not{16}, \\not{-23}]$ <br><br>\n",
    "<b> Pythonic Solution: <b>"
   ]
  },
  {
   "cell_type": "code",
   "execution_count": 32,
   "id": "3677a7ad",
   "metadata": {},
   "outputs": [
    {
     "name": "stdout",
     "output_type": "stream",
     "text": [
      "5u + 2v - 2w = [16, -31, 28]\n"
     ]
    }
   ],
   "source": [
    "## 3b ##\n",
    "u = [2, -5, 4, 6, -3]\n",
    "v = [5, -2, 1, -7, -4]\n",
    "w = [2, 1, -3]\n",
    "result = []\n",
    "\n",
    "for u, v, w in zip(u, v, w): # element-wise process since the # of elements vary between u,v and w\n",
    "    result.append(5 * u + 2 * v - 2 * w)\n",
    "\n",
    "print(f\"5u + 2v - 2w = {result}\") #only prints up to the common element place"
   ]
  },
  {
   "cell_type": "markdown",
   "id": "e1f0b4a2",
   "metadata": {},
   "source": [
    "##### c) ${u}\\cdotp{v}, {v}\\cdotp{w}, {u}\\cdotp{w}$\n",
    "$\\textbf{u} \\cdotp \\textbf{v} = 2(5) + (-5)(-2) + 4(1) + 6(-7) + (-3)(-4) = -6$<br>\n",
    "$\\textbf{v} \\cdotp \\textbf{w} = 5(2) + (-2)(1) + 1(-3) = 5$<br>\n",
    "$\\textbf{u} \\cdotp \\textbf{w} = 2(2) + (-25)(1) + 4(-3) = -13$<br><br>\n",
    "<b> Pythonic Solution: <b>"
   ]
  },
  {
   "cell_type": "code",
   "execution_count": 38,
   "id": "6dd017ee",
   "metadata": {},
   "outputs": [
    {
     "name": "stdout",
     "output_type": "stream",
     "text": [
      "u.v = -6\n",
      "v.w = 5\n",
      "u.w = -13\n"
     ]
    }
   ],
   "source": [
    "## 3c ##\n",
    "u = np.array([2, -5, 4, 6, -3])\n",
    "v = np.array([5, -2, 1, -7, -4])\n",
    "w = np.array([2, 1, -3])\n",
    "element_placement = 3  \n",
    "\n",
    "print(\"u.v =\", np.dot(u, v))\n",
    "u = u[:element_placement] #adjusting the placements for u and v to match with the common placement of elements based on w\n",
    "v = v[:element_placement]\n",
    "print(\"v.w =\", np.dot(v, w))\n",
    "print(\"u.w =\", np.dot(u, w))"
   ]
  },
  {
   "cell_type": "markdown",
   "id": "f2b0582a",
   "metadata": {},
   "source": [
    "##### d) $||\\textbf{u}||, ||\\textbf{v}||, ||\\textbf{w}||$\n",
    "||$\\textbf{u}$|| = $\\sqrt{\\textbf{u} \\cdotp \\textbf{u}} = \\sqrt{2^{2} + (-5)^{2} + 4^{2} + 6^{2} + (-3)^{2}} = 3\\sqrt{10} \\space\\approx\\space 9.47$ <br>\n",
    "||$\\textbf{v}$|| = $\\sqrt{\\textbf{v} \\cdotp \\textbf{v}} = \\sqrt{5^{2} + (-2)^{2} + 1^{2} + (-7)^{2} + (-4)^{2}} = \\sqrt{95} \\space\\approx\\space 9.75$ <br>\n",
    "||$\\textbf{w}$|| = $\\sqrt{\\textbf{w} \\cdotp \\textbf{w}} = \\sqrt{2^{2} + 1^{2} + (-3)^{2}} = \\sqrt{14} \\space\\approx\\space 3.74$ <br><br>\n",
    "<b> Pythonic Solution: <b>"
   ]
  },
  {
   "cell_type": "code",
   "execution_count": 40,
   "id": "4ea4a82b",
   "metadata": {},
   "outputs": [
    {
     "name": "stdout",
     "output_type": "stream",
     "text": [
      "||u||:  9.486832980505138\n",
      "sqrt(90):  9.486832980505138\n",
      "||v||:  9.746794344808963\n",
      "sqrt(95):  9.746794344808963\n",
      "||w||:  3.7416573867739413\n",
      "sqrt(14):  3.7416573867739413\n"
     ]
    }
   ],
   "source": [
    "## 3d ##\n",
    "u = np.array([2, -5, 4, 6, -3])\n",
    "v = np.array([5, -2, 1, -7, -4])\n",
    "w = np.array([2, 1, -3])\n",
    "\n",
    "print('||u||: ', np.sqrt(u.dot(u)))\n",
    "print('sqrt(90): ', np.sqrt(90))\n",
    "\n",
    "print('||v||: ', np.sqrt(v.dot(v)))\n",
    "print('sqrt(95): ', np.sqrt(95))\n",
    "\n",
    "print('||w||: ', np.sqrt(w.dot(w)))\n",
    "print('sqrt(14): ', np.sqrt(14))"
   ]
  },
  {
   "cell_type": "markdown",
   "id": "cd9582a8",
   "metadata": {},
   "source": [
    "##### e) If $\\theta$ is the angle between $\\textbf{u}$  and   $\\textbf{v}$, find $\\cos{\\theta}$.\n",
    "$\\cos{\\theta} = \\frac{\\textbf{u} \\cdotp \\textbf{v}}{||\\textbf{u}||\\space||\\textbf{v}||}$<br>\n",
    "$\\cos{\\theta} = \\frac{2(5) + (-5)(-2) + 4(1) + 6(-7) + (-3)(-4)}{\\sqrt{2^{2} + (-5)^{2} + 4^{2} + 6^{2} + (-3)^{2}}\\space\\sqrt{5^{2} + (-2)^{2} + 1^{2} + (-7)^{2} + (-4)^{2}}}$<br>\n",
    "$\\cos{\\theta} = \\frac{-6}{3\\sqrt{10}\\space\\sqrt{95}} = \\frac{-\\sqrt{38}}{95}\\space\\approx\\space-0.06$<br><br>\n",
    "<b> Pythonic Solution: <b>"
   ]
  },
  {
   "cell_type": "code",
   "execution_count": 42,
   "id": "4908fa70",
   "metadata": {},
   "outputs": [
    {
     "name": "stdout",
     "output_type": "stream",
     "text": [
      "angle theta: -0.06488856845230502\n",
      "angle theta: -0.06488856845230502\n"
     ]
    }
   ],
   "source": [
    "## 3e ##\n",
    "u = np.array([2, -5, 4, 6, -3])\n",
    "v = np.array([5, -2, 1, -7, -4])\n",
    "w = np.array([2, 1, -3])\n",
    "\n",
    "print(\"angle theta:\",u.dot(v)/(np.linalg.norm(u)*np.linalg.norm(v)))\n",
    "print(\"angle theta:\",-6/(np.sqrt(90)*np.sqrt(95)))"
   ]
  },
  {
   "cell_type": "markdown",
   "id": "d9913be9",
   "metadata": {},
   "source": [
    "##### f) If $\\alpha$ is the angle between $\\textbf{v}$  and   $\\textbf{w}$, find $\\cos{\\alpha}$.\n",
    "$\\cos{\\alpha} = \\frac{\\textbf{v} \\cdotp \\textbf{w}}{||\\textbf{v}||\\space||\\textbf{w}||}$<br>\n",
    "$\\cos{\\alpha} = \\frac{5(2) + (-2)(1) + 1(-3)}{\\sqrt{5^{2} + (-2)^{2} + 1^{2} + (-7)^{2} + (-4)^{2}}\\space\\sqrt{2^{2} + 1^{2} + (-3)^{2}}}$<br>\n",
    "$\\cos{\\alpha} = \\frac{5}{\\sqrt{95}\\space\\sqrt{14}}\\space\\approx\\space0.14$<br><br>\n",
    "<b> Pythonic Solution: <b>"
   ]
  },
  {
   "cell_type": "code",
   "execution_count": 49,
   "id": "77ec392a",
   "metadata": {},
   "outputs": [
    {
     "name": "stdout",
     "output_type": "stream",
     "text": [
      "angle alpha: 0.13710212427677046\n",
      "angle alpha: 0.13710212427677046\n"
     ]
    }
   ],
   "source": [
    "## 3e ##\n",
    "u = np.array([2, -5, 4, 6, -3])\n",
    "v = np.array([5, -2, 1, -7, -4])\n",
    "w = np.array([2, 1, -3])\n",
    "element_placement = 3 \n",
    "\n",
    "print(\"angle alpha:\", np.dot(v[:element_placement], w)/(np.linalg.norm(v)*np.linalg.norm(w)))\n",
    "print(\"angle alpha:\",5/(np.sqrt(95)*np.sqrt(14)))"
   ]
  },
  {
   "cell_type": "markdown",
   "id": "3e2f4976",
   "metadata": {},
   "source": [
    "##### g) If $\\beta$ is the angle between $\\textbf{u}$  and   $\\textbf{w}$, find $\\cos{\\beta}$.\n",
    "$\\cos{\\beta} = \\frac{\\textbf{u} \\cdotp \\textbf{w}}{||\\textbf{u}||\\space||\\textbf{w}||}$<br>\n",
    "$\\cos{\\beta} = \\frac{2(2) + (-25)(1) + 4(-3)}{\\sqrt{2^{2} + (-5)^{2} + 4^{2} + 6^{2} + (-3)^{2}}\\space\\sqrt{2^{2} + 1^{2} + (-3)^{2}}}$<br>\n",
    "$\\cos{\\beta} = \\frac{-13}{3\\sqrt{10}\\space\\sqrt{14}}\\space\\approx\\space-0.37$<br><br>\n",
    "<b> Pythonic Solution: <b>"
   ]
  },
  {
   "cell_type": "code",
   "execution_count": 50,
   "id": "b4aece7c",
   "metadata": {},
   "outputs": [
    {
     "name": "stdout",
     "output_type": "stream",
     "text": [
      "angle beta: -0.3662335103823572\n",
      "angle beta: -0.3662335103823572\n"
     ]
    }
   ],
   "source": [
    "## 3g ##\n",
    "u = np.array([2, -5, 4, 6, -3])\n",
    "v = np.array([5, -2, 1, -7, -4])\n",
    "w = np.array([2, 1, -3])\n",
    "element_placement = 3 \n",
    "\n",
    "print(\"angle beta:\", np.dot(u[:element_placement], w)/(np.linalg.norm(u)*np.linalg.norm(w)))\n",
    "print(\"angle beta:\",-13/(np.sqrt(90)*np.sqrt(14)))"
   ]
  },
  {
   "cell_type": "markdown",
   "id": "74aff730",
   "metadata": {},
   "source": [
    "##### h) Find $d(\\textbf{u},\\textbf{v})$.\n",
    "$d(u,v) = ||u-v|| = \\sqrt{(2-5)^2 + ((-5)-(-2))^2 + (4-1)^2 + (6-(-7))^2 + ((-3)-(-4))^2} = \\sqrt{197}\\space\\approx\\space 14.04$<br><br>\n",
    "<b> Pythonic Solution: <b>"
   ]
  },
  {
   "cell_type": "code",
   "execution_count": 51,
   "id": "e5a478e8",
   "metadata": {},
   "outputs": [
    {
     "name": "stdout",
     "output_type": "stream",
     "text": [
      "d(u,v):  14.035668847618199\n",
      "d(u,v):  14.035668847618199\n"
     ]
    }
   ],
   "source": [
    "## 3h ##\n",
    "u = np.array([2, -5, 4, 6, -3])\n",
    "v = np.array([5, -2, 1, -7, -4])\n",
    "w = np.array([2, 1, -3]) \n",
    "\n",
    "print(\"d(u,v): \", np.linalg.norm(u-v))\n",
    "print(\"d(u,v): \", np.sqrt(197))"
   ]
  },
  {
   "cell_type": "markdown",
   "id": "2326cef0",
   "metadata": {},
   "source": [
    "##### i) Find $d(\\textbf{w},\\textbf{v})$.\n",
    "$d(w,v) = ||w-v|| = \\sqrt{(2-5)^2 + (1-(-2))^2 + ((-3)-1)^2} = \\sqrt{34}\\space\\approx\\space 5.83$<br><br>\n",
    "<b> Pythonic Solution: <b>"
   ]
  },
  {
   "cell_type": "code",
   "execution_count": 62,
   "id": "d538eb61",
   "metadata": {},
   "outputs": [
    {
     "name": "stdout",
     "output_type": "stream",
     "text": [
      "d(w,v):  5.830951894845301\n",
      "d(w,v):  5.830951894845301\n"
     ]
    }
   ],
   "source": [
    "## 3i ##\n",
    "u = np.array([2, -5, 4, 6, -3])\n",
    "v = np.array([5, -2, 1, -7, -4])\n",
    "w = np.array([2, 1, -3])\n",
    "element_placement = 3 \n",
    "\n",
    "print(\"d(w,v): \", np.linalg.norm(w-v[:element_placement])) \n",
    "print(\"d(w,v): \", np.sqrt(34))"
   ]
  },
  {
   "cell_type": "markdown",
   "id": "10f531af",
   "metadata": {},
   "source": [
    "##### j) Find $d(\\textbf{u},\\textbf{w})$.\n",
    "$d(u,w) = ||u-w|| = \\sqrt{(2-2)^2 + ((-5)-1)^2 + (4-(-3))^2} = \\sqrt{85}\\space\\approx\\space 9.22$<br><br>\n",
    "<b> Pythonic Solution: <b>"
   ]
  },
  {
   "cell_type": "code",
   "execution_count": 64,
   "id": "b7b69029",
   "metadata": {},
   "outputs": [
    {
     "name": "stdout",
     "output_type": "stream",
     "text": [
      "d(u,w):  9.219544457292887\n",
      "d(u,w):  9.219544457292887\n"
     ]
    }
   ],
   "source": [
    "## 3j ##\n",
    "u = np.array([2, -5, 4, 6, -3])\n",
    "v = np.array([5, -2, 1, -7, -4])\n",
    "w = np.array([2, 1, -3])\n",
    "element_placement = 3 \n",
    "\n",
    "print(\"d(u,w): \", np.linalg.norm(u[:element_placement] - w)) \n",
    "print(\"d(u,w): \", np.sqrt(85))"
   ]
  },
  {
   "cell_type": "markdown",
   "id": "ddf8142c",
   "metadata": {},
   "source": [
    "##### k) Find $proj(\\textbf{u},\\textbf{v})$.\n",
    "$proj(u,v) = \\frac{u \\cdotp v}{||v||^2}v = \\frac{-6}{(\\sqrt{95})^2}(5,-2,1,-7,-4) = (\\frac{-6}{19},\\frac{12}{95},\\frac{-6}{95}, \\frac{42}{95}, \\frac{24}{95}) $<br><br>\n",
    "<b> Pythonic Solution: <b>"
   ]
  },
  {
   "cell_type": "code",
   "execution_count": 67,
   "id": "a30471d0",
   "metadata": {},
   "outputs": [
    {
     "name": "stdout",
     "output_type": "stream",
     "text": [
      "proj(u,v):  [-0.31578947  0.12631579 -0.06315789  0.44210526  0.25263158]\n",
      "proj(u,v):  [-0.3157894736842105, 0.12631578947368421, -0.06315789473684211, 0.4421052631578947, 0.25263157894736843]\n"
     ]
    }
   ],
   "source": [
    "## 3k ##\n",
    "u = np.array([2, -5, 4, 6, -3])\n",
    "v = np.array([5, -2, 1, -7, -4])\n",
    "w = np.array([2, 1, -3])\n",
    "\n",
    "print(\"proj(u,v): \",u.dot(v)*v/(np.linalg.norm(v)**2) )\n",
    "print(\"proj(u,v): \",[-6/19, 12/95, -6/95, 42/95, 24/95])"
   ]
  },
  {
   "cell_type": "markdown",
   "id": "254ba0e9",
   "metadata": {},
   "source": [
    "##### l) Find $proj(\\textbf{w},\\textbf{v})$.\n",
    "$proj(w,v) = \\frac{w \\cdotp v}{||v||^2}v = \\frac{5}{(\\sqrt{95})^2}(5,-2,1,-7,-4) = (\\frac{5}{19},\\frac{-2}{19},\\frac{1}{19}, \\frac{-7}{19}, \\frac{-4}{19}) $<br><br>\n",
    "<b> Pythonic Solution: <b>"
   ]
  },
  {
   "cell_type": "code",
   "execution_count": 69,
   "id": "cb3799aa",
   "metadata": {},
   "outputs": [
    {
     "name": "stdout",
     "output_type": "stream",
     "text": [
      "proj(w,v):  [ 0.26315789 -0.10526316  0.05263158 -0.36842105 -0.21052632]\n",
      "proj(w,v):  [0.2631578947368421, -0.10526315789473684, 0.05263157894736842, -0.3684210526315789, -0.21052631578947367]\n"
     ]
    }
   ],
   "source": [
    "## 3l ##\n",
    "u = np.array([2, -5, 4, 6, -3])\n",
    "v = np.array([5, -2, 1, -7, -4])\n",
    "w = np.array([2, 1, -3])\n",
    "element_placement = 3\n",
    "\n",
    "print(\"proj(w,v): \",w.dot(v[:element_placement])*v/(np.linalg.norm(v)**2) )\n",
    "print(\"proj(w,v): \",[5/19, -2/19, 1/19, -7/19, -4/19])"
   ]
  },
  {
   "cell_type": "markdown",
   "id": "bc1f9cad",
   "metadata": {},
   "source": [
    "##### m) Find $proj(\\textbf{u},\\textbf{w})$.\n",
    "$proj(u,w) = \\frac{u \\cdotp w}{||w||^2}v = \\frac{-13}{(\\sqrt{14})^2}(2,1,-3) = (\\frac{-13}{7},\\frac{-13}{7},\\frac{39}{14})$<br><br>\n",
    "<b> Pythonic Solution: <b>"
   ]
  },
  {
   "cell_type": "code",
   "execution_count": 72,
   "id": "efb14b56",
   "metadata": {},
   "outputs": [
    {
     "name": "stdout",
     "output_type": "stream",
     "text": [
      "proj(u,w):  [-1.85714286 -0.92857143  2.78571429]\n",
      "proj(u,w):  [-1.8571428571428572, -0.9285714285714286, 2.7857142857142856]\n"
     ]
    }
   ],
   "source": [
    "## 3m ##\n",
    "u = np.array([2, -5, 4, 6, -3])\n",
    "v = np.array([5, -2, 1, -7, -4])\n",
    "w = np.array([2, 1, -3])\n",
    "element_placement = 3\n",
    "\n",
    "print(\"proj(u,w): \",u[:element_placement].dot(w)*w/(np.linalg.norm(w)**2) )\n",
    "print(\"proj(u,w): \",[-13/7, -13/14, 39/14])"
   ]
  },
  {
   "cell_type": "markdown",
   "id": "055f3e96",
   "metadata": {},
   "source": [
    "##### 4. Normalize each vector:\n",
    "##### a) ${u} = (5, -7)$\n",
    "$||\\textbf{u}|| = \\sqrt{{5}^2 + {7}^2} = \\sqrt{74} \\\\\n",
    "\\textbf{u'} = \\frac{\\textbf{u}}{||\\textbf{u}||} = (\\frac{5}{\\sqrt{74}},\\frac{-7}{\\sqrt{74}}) = \\sqrt{(\\frac{5}{\\sqrt{74}})^2 + (\\frac{-7}{\\sqrt{74}})^2} = 1$\n",
    "<b> Pythonic Solution: <b>"
   ]
  },
  {
   "cell_type": "code",
   "execution_count": 74,
   "id": "12a50b0c",
   "metadata": {},
   "outputs": [
    {
     "name": "stdout",
     "output_type": "stream",
     "text": [
      "u':  [ 0.58123819 -0.81373347]\n"
     ]
    }
   ],
   "source": [
    "## 4a ##\n",
    "u = np.array([5, -7])\n",
    "\n",
    "print(\"u': \", u/np.sqrt(u.dot(u)))"
   ]
  },
  {
   "cell_type": "markdown",
   "id": "c930d196",
   "metadata": {},
   "source": [
    "##### b) ${v} = (1, 2, -2, 4)$\n",
    "$||\\textbf{v}|| = \\sqrt{{1}^2 + {2}^2 + {-2}^2 + {4}^2} = \\sqrt{5} \\\\\n",
    "\\textbf{v'} = \\frac{\\textbf{v}}{||\\textbf{v}||} = (\\frac{1}{\\sqrt{5}},\\frac{2}{\\sqrt{5}}, \\frac{-2}{\\sqrt{5}}, \\frac{4}{\\sqrt{5}}) = \\sqrt{(\\frac{1}{\\sqrt{5}})^2 + (\\frac{2}{\\sqrt{5}})^ + (\\frac{-2}{\\sqrt{5}})^2 + (\\frac{4}{\\sqrt{5}})^2} = 1$\n",
    "<b> Pythonic Solution: <b>"
   ]
  },
  {
   "cell_type": "code",
   "execution_count": 76,
   "id": "90c20ed4",
   "metadata": {},
   "outputs": [
    {
     "name": "stdout",
     "output_type": "stream",
     "text": [
      "v':  [ 0.2  0.4 -0.4  0.8]\n"
     ]
    }
   ],
   "source": [
    "## 4b ##\n",
    "v = np.array([1,2,-2,4])\n",
    "\n",
    "print(\"v': \", v/np.sqrt(v.dot(v)))"
   ]
  },
  {
   "cell_type": "markdown",
   "id": "c1514d21",
   "metadata": {},
   "source": [
    "##### c) ${w} = (\\frac{1}{2}, \\frac{-1}{3}, \\frac{3}{4})$\n",
    "$||\\textbf{w}|| = \\sqrt{{\\frac{1}{2}}^2 + {\\frac{-1}{3}}^2 + {\\frac{3}{4}}^2} = \\frac{\\sqrt{133}}{12} \\\\\n",
    "\\textbf{w'} = \\frac{\\textbf{w}}{||\\textbf{w}||} = (\\frac{{\\frac{1}{2}}}{\\frac{\\sqrt{133}}{12}},\\frac{{\\frac{-1}{3}}}{\\frac{\\sqrt{133}}{12}}, \\frac{{\\frac{3}{4}}}{\\frac{\\sqrt{133}}{12}}) = \\sqrt{\\frac{{\\frac{1}{2}}}{\\frac{\\sqrt{133}}{12}}^2 +\\frac{{\\frac{-1}{3}}}{\\frac{\\sqrt{133}}{12}}^2 + \\frac{{\\frac{3}{4}}}{\\frac{\\sqrt{133}}{12}}^2} = 1$\n",
    "<b> Pythonic Solution: <b>"
   ]
  },
  {
   "cell_type": "code",
   "execution_count": 77,
   "id": "1836b18a",
   "metadata": {},
   "outputs": [
    {
     "name": "stdout",
     "output_type": "stream",
     "text": [
      "w':  [ 0.52026598 -0.34684399  0.78039897]\n"
     ]
    }
   ],
   "source": [
    "## 4c ##\n",
    "w = np.array([1/2,-1/3,3/4])\n",
    "\n",
    "print(\"w': \", w/np.sqrt(w.dot(w)))"
   ]
  },
  {
   "cell_type": "markdown",
   "id": "229f4b60",
   "metadata": {},
   "source": [
    "##### 5. Let  $\\textbf{u} = (1, 2, -2),\\space \\textbf{v} = (3, -12, 4) \\space and\\space a\\space scalar\\space\\textbf{k} = -3$\n",
    "###### Find  $||\\textbf{u}||, ||\\textbf{v}||, ||\\textbf{u + v}||, ||\\textbf{ku}||$\n",
    "||$\\textbf{u}$|| = $\\sqrt{\\textbf{u} \\cdotp \\textbf{u}} = \\sqrt{1^{2} + 2^{2} + (-2)^{2}} = \\space 3$ <br>\n",
    "||$\\textbf{v}$|| = $\\sqrt{\\textbf{v} \\cdotp \\textbf{v}} = \\sqrt{3^{2} + (-12)^{2} + 4^{2}} = \\space 13$ <br>\n",
    "||$\\textbf{u + v}$|| = $\\sqrt{(1+3)^{2} + (2+(-12))^{2} + ((-2)+4)^{2}} = 2\\sqrt{30} \\space\\approx\\space 10.95$<br>\n",
    "||$\\textbf{ku}$|| =$\\sqrt{((-3)(1))^{2} + ((-3)(2))^{2} + ((-3)(-2))^{2}} = \\space 9$ <br>\n",
    "<br><br>\n",
    "<b> Pythonic Solution: <b>"
   ]
  },
  {
   "cell_type": "code",
   "execution_count": 82,
   "id": "80d16aa4",
   "metadata": {},
   "outputs": [
    {
     "name": "stdout",
     "output_type": "stream",
     "text": [
      "||u||:  3.0\n",
      "||v||:  13.0\n",
      "||u+v||:  10.954451150103322\n",
      "||ku||:  9.0\n"
     ]
    }
   ],
   "source": [
    "## 5 ##\n",
    "u = np.array([1,2,-2])\n",
    "v = np.array([3,-12,4])\n",
    "k = -3\n",
    "\n",
    "print('||u||: ', np.sqrt(u.dot(u)))\n",
    "print('||v||: ', np.sqrt(v.dot(v)))\n",
    "print('||u+v||: ', np.linalg.norm(u+v))\n",
    "print('||ku||: ', np.linalg.norm(k*u))"
   ]
  },
  {
   "cell_type": "markdown",
   "id": "9ec30e7c",
   "metadata": {},
   "source": [
    "##### 6. Find $\\textbf{k}$ so that $\\textbf{u and v}$ are orthogonal\n",
    "##### a) $\\textbf{u} = (3, {k}, - 2), \\textbf{v} = (6, -4, -3)$\n",
    "$\\textbf{u} \\cdotp \\textbf{v} = 3(6) + k(-4) + (-2)(-3) = 0\\\\\n",
    "\\textbf{u} \\cdotp \\textbf{v} = 18 + (-4k) + 6 = 0\\\\\n",
    "\\textbf{u} \\cdotp \\textbf{v} = \\frac{18+6}{4} = \\frac{4k}{4}\\\\\n",
    "\\textbf{k} = 6$<br>\n",
    "<b> Pythonic Solution: <b>"
   ]
  },
  {
   "cell_type": "code",
   "execution_count": 104,
   "id": "b717e06d",
   "metadata": {},
   "outputs": [
    {
     "name": "stdout",
     "output_type": "stream",
     "text": [
      "k = [6]\n"
     ]
    }
   ],
   "source": [
    "## 6a ##\n",
    "k = sp.symbols('k')\n",
    "u = sp.Matrix([3, k, -2])\n",
    "v = sp.Matrix([6, -4, -3])\n",
    "\n",
    "print(\"k =\", sp.solve((sp.Eq(u.dot(v), 0)), k))"
   ]
  },
  {
   "cell_type": "markdown",
   "id": "111cd49d",
   "metadata": {},
   "source": [
    "##### b) $\\textbf{u} = (5, {k}, -4, 2), \\textbf{v} = (1, -3, 2, 2{k})$\n",
    "$\\textbf{u} \\cdotp \\textbf{v} = 5(1) + k(-3) + (-4)(2) + (2)(2k) = 0\\\\\n",
    "\\textbf{u} \\cdotp \\textbf{v} = -3k + 4k - 3 = 0\\\\\n",
    "\\textbf{u} \\cdotp \\textbf{v} = k - 3 = 0\\\\\n",
    "\\textbf{k} = 3$<br>\n",
    "<b> Pythonic Solution: <b>"
   ]
  },
  {
   "cell_type": "code",
   "execution_count": 105,
   "id": "a5dd64b9",
   "metadata": {},
   "outputs": [
    {
     "name": "stdout",
     "output_type": "stream",
     "text": [
      "k = [3]\n"
     ]
    }
   ],
   "source": [
    "## 6b ##\n",
    "k = sp.symbols('k')\n",
    "u = sp.Matrix([5, k, -4, 2])\n",
    "v = sp.Matrix([1, -3, 2, 2*k])\n",
    "\n",
    "print(\"k =\", sp.solve((sp.Eq(u.dot(v), 0)), k))"
   ]
  },
  {
   "cell_type": "markdown",
   "id": "c385088e",
   "metadata": {},
   "source": [
    "##### c) $\\textbf{u} = (1, 7, {k + 2}, -2), \\textbf{v} = (3, {k}, -3, {k})$\n",
    "$\\textbf{u} \\cdotp \\textbf{v} = 1(3) + 7(k) + (k+2)(-3) + (-2)(k) = 0\\\\\n",
    "\\textbf{u} \\cdotp \\textbf{v} = 7k + (-3k) + (-2k) = 0\\\\\n",
    "\\textbf{u} \\cdotp \\textbf{v} = \\frac{2k}{k} = \\frac{3}{2}\\\\\n",
    "\\textbf{k} = \\frac{3}{2}$<br>\n",
    "<b> Pythonic Solution: <b>"
   ]
  },
  {
   "cell_type": "code",
   "execution_count": 106,
   "id": "59cb2d08",
   "metadata": {},
   "outputs": [
    {
     "name": "stdout",
     "output_type": "stream",
     "text": [
      "k = [3/2]\n"
     ]
    }
   ],
   "source": [
    "## 6c ##\n",
    "k = sp.symbols('k')\n",
    "u = sp.Matrix([1, 7, k + 2, -2])\n",
    "v = sp.Matrix([3, k, -3, k])\n",
    "\n",
    "print(\"k =\", sp.solve((sp.Eq(u.dot(v), 0)), k))"
   ]
  }
 ],
 "metadata": {
  "kernelspec": {
   "display_name": "Python 3 (ipykernel)",
   "language": "python",
   "name": "python3"
  },
  "language_info": {
   "codemirror_mode": {
    "name": "ipython",
    "version": 3
   },
   "file_extension": ".py",
   "mimetype": "text/x-python",
   "name": "python",
   "nbconvert_exporter": "python",
   "pygments_lexer": "ipython3",
   "version": "3.11.4"
  }
 },
 "nbformat": 4,
 "nbformat_minor": 5
}
